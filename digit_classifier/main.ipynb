{
 "cells": [
  {
   "cell_type": "code",
   "execution_count": 186,
   "metadata": {},
   "outputs": [],
   "source": [
    "#hide\n",
    "! [ -e /content ] && pip install -Uqq fastbook\n",
    "import fastbook\n",
    "fastbook.setup_book()"
   ]
  },
  {
   "cell_type": "code",
   "execution_count": 187,
   "metadata": {},
   "outputs": [],
   "source": [
    "\n",
    "from fastai.vision.all import *\n",
    "from fastbook import *\n",
    "\n",
    "matplotlib.rc('image', cmap='Greys')"
   ]
  },
  {
   "cell_type": "code",
   "execution_count": 188,
   "metadata": {},
   "outputs": [],
   "source": [
    "path = untar_data(URLs.MNIST_SAMPLE)"
   ]
  },
  {
   "cell_type": "code",
   "execution_count": 189,
   "metadata": {},
   "outputs": [],
   "source": [
    "#hide\n",
    "Path.BASE_PATH = path"
   ]
  },
  {
   "cell_type": "code",
   "execution_count": 190,
   "metadata": {},
   "outputs": [
    {
     "data": {
      "text/plain": [
       "(#3) [Path('labels.csv'),Path('valid'),Path('train')]"
      ]
     },
     "execution_count": 190,
     "metadata": {},
     "output_type": "execute_result"
    }
   ],
   "source": [
    "path.ls()"
   ]
  },
  {
   "cell_type": "code",
   "execution_count": 191,
   "metadata": {},
   "outputs": [
    {
     "data": {
      "text/plain": [
       "(#2) [Path('train/7'),Path('train/3')]"
      ]
     },
     "execution_count": 191,
     "metadata": {},
     "output_type": "execute_result"
    }
   ],
   "source": [
    "(path/'train').ls()"
   ]
  },
  {
   "cell_type": "code",
   "execution_count": 192,
   "metadata": {},
   "outputs": [
    {
     "data": {
      "text/plain": [
       "(#6131) [Path('train/3/10.png'),Path('train/3/10000.png'),Path('train/3/10011.png'),Path('train/3/10031.png'),Path('train/3/10034.png'),Path('train/3/10042.png'),Path('train/3/10052.png'),Path('train/3/1007.png'),Path('train/3/10074.png'),Path('train/3/10091.png'),Path('train/3/10093.png'),Path('train/3/10097.png'),Path('train/3/10099.png'),Path('train/3/10116.png'),Path('train/3/10125.png'),Path('train/3/10137.png'),Path('train/3/10141.png'),Path('train/3/10144.png'),Path('train/3/10155.png'),Path('train/3/10161.png')...]"
      ]
     },
     "execution_count": 192,
     "metadata": {},
     "output_type": "execute_result"
    }
   ],
   "source": [
    "threes = (path/'train'/'3').ls().sorted()\n",
    "sevens = (path/'train'/'7').ls().sorted()\n",
    "threes"
   ]
  },
  {
   "cell_type": "code",
   "execution_count": 193,
   "metadata": {},
   "outputs": [
    {
     "data": {
      "image/jpeg": "[encoded data removed]",
      "image/png": "[encoded data removed]",
      "text/plain": [
       "<PIL.PngImagePlugin.PngImageFile image mode=L size=28x28>"
      ]
     },
     "execution_count": 193,
     "metadata": {},
     "output_type": "execute_result"
    }
   ],
   "source": [
    "im3_path = threes[1]\n",
    "im3 = Image.open(im3_path)\n",
    "im3"
   ]
  },
  {
   "cell_type": "code",
   "execution_count": 194,
   "metadata": {},
   "outputs": [
    {
     "data": {
      "text/plain": [
       "array([[  0,   0,   0,   0,   0,   0],\n",
       "       [  0,   0,   0,   0,   0,  29],\n",
       "       [  0,   0,   0,  48, 166, 224],\n",
       "       [  0,  93, 244, 249, 253, 187],\n",
       "       [  0, 107, 253, 253, 230,  48],\n",
       "       [  0,   3,  20,  20,  15,   0]], dtype=uint8)"
      ]
     },
     "execution_count": 194,
     "metadata": {},
     "output_type": "execute_result"
    }
   ],
   "source": [
    "array(im3)[4:10,4:10]"
   ]
  },
  {
   "cell_type": "code",
   "execution_count": 195,
   "metadata": {},
   "outputs": [
    {
     "data": {
      "text/plain": [
       "tensor([[  0,   0,   0,   0,   0,   0],\n",
       "        [  0,   0,   0,   0,   0,  29],\n",
       "        [  0,   0,   0,  48, 166, 224],\n",
       "        [  0,  93, 244, 249, 253, 187],\n",
       "        [  0, 107, 253, 253, 230,  48],\n",
       "        [  0,   3,  20,  20,  15,   0]], dtype=torch.uint8)"
      ]
     },
     "execution_count": 195,
     "metadata": {},
     "output_type": "execute_result"
    }
   ],
   "source": [
    "tensor(im3)[4:10,4:10]"
   ]
  },
  {
   "cell_type": "code",
   "execution_count": 196,
   "metadata": {},
   "outputs": [
    {
     "data": {
      "text/html": [
       "<style type=\"text/css\">\n",
       "#T_5f486_row0_col0, #T_5f486_row0_col1, #T_5f486_row0_col2, #T_5f486_row0_col3, #T_5f486_row0_col4, #T_5f486_row0_col5, #T_5f486_row0_col6, #T_5f486_row0_col7, #T_5f486_row0_col8, #T_5f486_row0_col9, #T_5f486_row0_col10, #T_5f486_row0_col11, #T_5f486_row0_col12, #T_5f486_row0_col13, #T_5f486_row0_col14, #T_5f486_row0_col15, #T_5f486_row0_col16, #T_5f486_row0_col17, #T_5f486_row1_col0, #T_5f486_row1_col1, #T_5f486_row1_col2, #T_5f486_row1_col3, #T_5f486_row1_col4, #T_5f486_row1_col15, #T_5f486_row1_col16, #T_5f486_row1_col17, #T_5f486_row2_col0, #T_5f486_row2_col1, #T_5f486_row2_col2, #T_5f486_row2_col15, #T_5f486_row2_col16, #T_5f486_row2_col17, #T_5f486_row3_col0, #T_5f486_row3_col15, #T_5f486_row3_col16, #T_5f486_row3_col17, #T_5f486_row4_col0, #T_5f486_row4_col6, #T_5f486_row4_col7, #T_5f486_row4_col8, #T_5f486_row4_col9, #T_5f486_row4_col10, #T_5f486_row4_col15, #T_5f486_row4_col16, #T_5f486_row4_col17, #T_5f486_row5_col0, #T_5f486_row5_col5, #T_5f486_row5_col6, #T_5f486_row5_col7, #T_5f486_row5_col8, #T_5f486_row5_col9, #T_5f486_row5_col15, #T_5f486_row5_col16, #T_5f486_row5_col17, #T_5f486_row6_col0, #T_5f486_row6_col1, #T_5f486_row6_col2, #T_5f486_row6_col3, #T_5f486_row6_col4, #T_5f486_row6_col5, #T_5f486_row6_col6, #T_5f486_row6_col7, #T_5f486_row6_col8, #T_5f486_row6_col9, #T_5f486_row6_col14, #T_5f486_row6_col15, #T_5f486_row6_col16, #T_5f486_row6_col17, #T_5f486_row7_col0, #T_5f486_row7_col1, #T_5f486_row7_col2, #T_5f486_row7_col3, #T_5f486_row7_col4, #T_5f486_row7_col5, #T_5f486_row7_col6, #T_5f486_row7_col13, #T_5f486_row7_col14, #T_5f486_row7_col15, #T_5f486_row7_col16, #T_5f486_row7_col17, #T_5f486_row8_col0, #T_5f486_row8_col1, #T_5f486_row8_col2, #T_5f486_row8_col3, #T_5f486_row8_col4, #T_5f486_row8_col13, #T_5f486_row8_col14, #T_5f486_row8_col15, #T_5f486_row8_col16, #T_5f486_row8_col17, #T_5f486_row9_col0, #T_5f486_row9_col1, #T_5f486_row9_col2, #T_5f486_row9_col3, #T_5f486_row9_col4, #T_5f486_row9_col16, #T_5f486_row9_col17, #T_5f486_row10_col0, #T_5f486_row10_col1, #T_5f486_row10_col2, #T_5f486_row10_col3, #T_5f486_row10_col4, #T_5f486_row10_col5, #T_5f486_row10_col6, #T_5f486_row10_col17 {\n",
       "  font-size: 6pt;\n",
       "  background-color: #ffffff;\n",
       "  color: #000000;\n",
       "}\n",
       "#T_5f486_row1_col5 {\n",
       "  font-size: 6pt;\n",
       "  background-color: #efefef;\n",
       "  color: #000000;\n",
       "}\n",
       "#T_5f486_row1_col6, #T_5f486_row1_col13 {\n",
       "  font-size: 6pt;\n",
       "  background-color: #7c7c7c;\n",
       "  color: #f1f1f1;\n",
       "}\n",
       "#T_5f486_row1_col7 {\n",
       "  font-size: 6pt;\n",
       "  background-color: #4a4a4a;\n",
       "  color: #f1f1f1;\n",
       "}\n",
       "#T_5f486_row1_col8, #T_5f486_row1_col9, #T_5f486_row1_col10, #T_5f486_row2_col5, #T_5f486_row2_col6, #T_5f486_row2_col7, #T_5f486_row2_col11, #T_5f486_row2_col12, #T_5f486_row2_col13, #T_5f486_row3_col4, #T_5f486_row3_col12, #T_5f486_row3_col13, #T_5f486_row4_col1, #T_5f486_row4_col2, #T_5f486_row4_col3, #T_5f486_row4_col12, #T_5f486_row4_col13, #T_5f486_row5_col12, #T_5f486_row6_col11, #T_5f486_row9_col11, #T_5f486_row10_col11, #T_5f486_row10_col12, #T_5f486_row10_col13, #T_5f486_row10_col14, #T_5f486_row10_col15, #T_5f486_row10_col16 {\n",
       "  font-size: 6pt;\n",
       "  background-color: #000000;\n",
       "  color: #f1f1f1;\n",
       "}\n",
       "#T_5f486_row1_col11 {\n",
       "  font-size: 6pt;\n",
       "  background-color: #606060;\n",
       "  color: #f1f1f1;\n",
       "}\n",
       "#T_5f486_row1_col12 {\n",
       "  font-size: 6pt;\n",
       "  background-color: #4d4d4d;\n",
       "  color: #f1f1f1;\n",
       "}\n",
       "#T_5f486_row1_col14 {\n",
       "  font-size: 6pt;\n",
       "  background-color: #bbbbbb;\n",
       "  color: #000000;\n",
       "}\n",
       "#T_5f486_row2_col3 {\n",
       "  font-size: 6pt;\n",
       "  background-color: #e4e4e4;\n",
       "  color: #000000;\n",
       "}\n",
       "#T_5f486_row2_col4, #T_5f486_row8_col6 {\n",
       "  font-size: 6pt;\n",
       "  background-color: #6b6b6b;\n",
       "  color: #f1f1f1;\n",
       "}\n",
       "#T_5f486_row2_col8, #T_5f486_row2_col14, #T_5f486_row3_col14 {\n",
       "  font-size: 6pt;\n",
       "  background-color: #171717;\n",
       "  color: #f1f1f1;\n",
       "}\n",
       "#T_5f486_row2_col9, #T_5f486_row3_col11 {\n",
       "  font-size: 6pt;\n",
       "  background-color: #4b4b4b;\n",
       "  color: #f1f1f1;\n",
       "}\n",
       "#T_5f486_row2_col10, #T_5f486_row7_col10, #T_5f486_row8_col8, #T_5f486_row8_col10, #T_5f486_row9_col8, #T_5f486_row9_col10 {\n",
       "  font-size: 6pt;\n",
       "  background-color: #010101;\n",
       "  color: #f1f1f1;\n",
       "}\n",
       "#T_5f486_row3_col1 {\n",
       "  font-size: 6pt;\n",
       "  background-color: #272727;\n",
       "  color: #f1f1f1;\n",
       "}\n",
       "#T_5f486_row3_col2 {\n",
       "  font-size: 6pt;\n",
       "  background-color: #0a0a0a;\n",
       "  color: #f1f1f1;\n",
       "}\n",
       "#T_5f486_row3_col3 {\n",
       "  font-size: 6pt;\n",
       "  background-color: #050505;\n",
       "  color: #f1f1f1;\n",
       "}\n",
       "#T_5f486_row3_col5 {\n",
       "  font-size: 6pt;\n",
       "  background-color: #333333;\n",
       "  color: #f1f1f1;\n",
       "}\n",
       "#T_5f486_row3_col6 {\n",
       "  font-size: 6pt;\n",
       "  background-color: #e6e6e6;\n",
       "  color: #000000;\n",
       "}\n",
       "#T_5f486_row3_col7, #T_5f486_row3_col10 {\n",
       "  font-size: 6pt;\n",
       "  background-color: #fafafa;\n",
       "  color: #000000;\n",
       "}\n",
       "#T_5f486_row3_col8 {\n",
       "  font-size: 6pt;\n",
       "  background-color: #fbfbfb;\n",
       "  color: #000000;\n",
       "}\n",
       "#T_5f486_row3_col9 {\n",
       "  font-size: 6pt;\n",
       "  background-color: #fdfdfd;\n",
       "  color: #000000;\n",
       "}\n",
       "#T_5f486_row4_col4 {\n",
       "  font-size: 6pt;\n",
       "  background-color: #1b1b1b;\n",
       "  color: #f1f1f1;\n",
       "}\n",
       "#T_5f486_row4_col5 {\n",
       "  font-size: 6pt;\n",
       "  background-color: #e0e0e0;\n",
       "  color: #000000;\n",
       "}\n",
       "#T_5f486_row4_col11 {\n",
       "  font-size: 6pt;\n",
       "  background-color: #4e4e4e;\n",
       "  color: #f1f1f1;\n",
       "}\n",
       "#T_5f486_row4_col14 {\n",
       "  font-size: 6pt;\n",
       "  background-color: #767676;\n",
       "  color: #f1f1f1;\n",
       "}\n",
       "#T_5f486_row5_col1 {\n",
       "  font-size: 6pt;\n",
       "  background-color: #fcfcfc;\n",
       "  color: #000000;\n",
       "}\n",
       "#T_5f486_row5_col2, #T_5f486_row5_col3 {\n",
       "  font-size: 6pt;\n",
       "  background-color: #f6f6f6;\n",
       "  color: #000000;\n",
       "}\n",
       "#T_5f486_row5_col4, #T_5f486_row7_col7 {\n",
       "  font-size: 6pt;\n",
       "  background-color: #f8f8f8;\n",
       "  color: #000000;\n",
       "}\n",
       "#T_5f486_row5_col10, #T_5f486_row10_col7 {\n",
       "  font-size: 6pt;\n",
       "  background-color: #e8e8e8;\n",
       "  color: #000000;\n",
       "}\n",
       "#T_5f486_row5_col11 {\n",
       "  font-size: 6pt;\n",
       "  background-color: #222222;\n",
       "  color: #f1f1f1;\n",
       "}\n",
       "#T_5f486_row5_col13, #T_5f486_row6_col12 {\n",
       "  font-size: 6pt;\n",
       "  background-color: #090909;\n",
       "  color: #f1f1f1;\n",
       "}\n",
       "#T_5f486_row5_col14 {\n",
       "  font-size: 6pt;\n",
       "  background-color: #d0d0d0;\n",
       "  color: #000000;\n",
       "}\n",
       "#T_5f486_row6_col10, #T_5f486_row7_col11, #T_5f486_row9_col6 {\n",
       "  font-size: 6pt;\n",
       "  background-color: #060606;\n",
       "  color: #f1f1f1;\n",
       "}\n",
       "#T_5f486_row6_col13 {\n",
       "  font-size: 6pt;\n",
       "  background-color: #979797;\n",
       "  color: #f1f1f1;\n",
       "}\n",
       "#T_5f486_row7_col8 {\n",
       "  font-size: 6pt;\n",
       "  background-color: #b6b6b6;\n",
       "  color: #000000;\n",
       "}\n",
       "#T_5f486_row7_col9 {\n",
       "  font-size: 6pt;\n",
       "  background-color: #252525;\n",
       "  color: #f1f1f1;\n",
       "}\n",
       "#T_5f486_row7_col12 {\n",
       "  font-size: 6pt;\n",
       "  background-color: #999999;\n",
       "  color: #f1f1f1;\n",
       "}\n",
       "#T_5f486_row8_col5 {\n",
       "  font-size: 6pt;\n",
       "  background-color: #f9f9f9;\n",
       "  color: #000000;\n",
       "}\n",
       "#T_5f486_row8_col7 {\n",
       "  font-size: 6pt;\n",
       "  background-color: #101010;\n",
       "  color: #f1f1f1;\n",
       "}\n",
       "#T_5f486_row8_col9, #T_5f486_row9_col9 {\n",
       "  font-size: 6pt;\n",
       "  background-color: #020202;\n",
       "  color: #f1f1f1;\n",
       "}\n",
       "#T_5f486_row8_col11 {\n",
       "  font-size: 6pt;\n",
       "  background-color: #545454;\n",
       "  color: #f1f1f1;\n",
       "}\n",
       "#T_5f486_row8_col12 {\n",
       "  font-size: 6pt;\n",
       "  background-color: #f1f1f1;\n",
       "  color: #000000;\n",
       "}\n",
       "#T_5f486_row9_col5 {\n",
       "  font-size: 6pt;\n",
       "  background-color: #f7f7f7;\n",
       "  color: #000000;\n",
       "}\n",
       "#T_5f486_row9_col7 {\n",
       "  font-size: 6pt;\n",
       "  background-color: #030303;\n",
       "  color: #f1f1f1;\n",
       "}\n",
       "#T_5f486_row9_col12 {\n",
       "  font-size: 6pt;\n",
       "  background-color: #181818;\n",
       "  color: #f1f1f1;\n",
       "}\n",
       "#T_5f486_row9_col13 {\n",
       "  font-size: 6pt;\n",
       "  background-color: #303030;\n",
       "  color: #f1f1f1;\n",
       "}\n",
       "#T_5f486_row9_col14 {\n",
       "  font-size: 6pt;\n",
       "  background-color: #a9a9a9;\n",
       "  color: #f1f1f1;\n",
       "}\n",
       "#T_5f486_row9_col15 {\n",
       "  font-size: 6pt;\n",
       "  background-color: #fefefe;\n",
       "  color: #000000;\n",
       "}\n",
       "#T_5f486_row10_col8, #T_5f486_row10_col9 {\n",
       "  font-size: 6pt;\n",
       "  background-color: #bababa;\n",
       "  color: #000000;\n",
       "}\n",
       "#T_5f486_row10_col10 {\n",
       "  font-size: 6pt;\n",
       "  background-color: #393939;\n",
       "  color: #f1f1f1;\n",
       "}\n",
       "</style>\n",
       "<table id=\"T_5f486\">\n",
       "  <thead>\n",
       "    <tr>\n",
       "      <th class=\"blank level0\" >&nbsp;</th>\n",
       "      <th id=\"T_5f486_level0_col0\" class=\"col_heading level0 col0\" >0</th>\n",
       "      <th id=\"T_5f486_level0_col1\" class=\"col_heading level0 col1\" >1</th>\n",
       "      <th id=\"T_5f486_level0_col2\" class=\"col_heading level0 col2\" >2</th>\n",
       "      <th id=\"T_5f486_level0_col3\" class=\"col_heading level0 col3\" >3</th>\n",
       "      <th id=\"T_5f486_level0_col4\" class=\"col_heading level0 col4\" >4</th>\n",
       "      <th id=\"T_5f486_level0_col5\" class=\"col_heading level0 col5\" >5</th>\n",
       "      <th id=\"T_5f486_level0_col6\" class=\"col_heading level0 col6\" >6</th>\n",
       "      <th id=\"T_5f486_level0_col7\" class=\"col_heading level0 col7\" >7</th>\n",
       "      <th id=\"T_5f486_level0_col8\" class=\"col_heading level0 col8\" >8</th>\n",
       "      <th id=\"T_5f486_level0_col9\" class=\"col_heading level0 col9\" >9</th>\n",
       "      <th id=\"T_5f486_level0_col10\" class=\"col_heading level0 col10\" >10</th>\n",
       "      <th id=\"T_5f486_level0_col11\" class=\"col_heading level0 col11\" >11</th>\n",
       "      <th id=\"T_5f486_level0_col12\" class=\"col_heading level0 col12\" >12</th>\n",
       "      <th id=\"T_5f486_level0_col13\" class=\"col_heading level0 col13\" >13</th>\n",
       "      <th id=\"T_5f486_level0_col14\" class=\"col_heading level0 col14\" >14</th>\n",
       "      <th id=\"T_5f486_level0_col15\" class=\"col_heading level0 col15\" >15</th>\n",
       "      <th id=\"T_5f486_level0_col16\" class=\"col_heading level0 col16\" >16</th>\n",
       "      <th id=\"T_5f486_level0_col17\" class=\"col_heading level0 col17\" >17</th>\n",
       "    </tr>\n",
       "  </thead>\n",
       "  <tbody>\n",
       "    <tr>\n",
       "      <th id=\"T_5f486_level0_row0\" class=\"row_heading level0 row0\" >0</th>\n",
       "      <td id=\"T_5f486_row0_col0\" class=\"data row0 col0\" >0</td>\n",
       "      <td id=\"T_5f486_row0_col1\" class=\"data row0 col1\" >0</td>\n",
       "      <td id=\"T_5f486_row0_col2\" class=\"data row0 col2\" >0</td>\n",
       "      <td id=\"T_5f486_row0_col3\" class=\"data row0 col3\" >0</td>\n",
       "      <td id=\"T_5f486_row0_col4\" class=\"data row0 col4\" >0</td>\n",
       "      <td id=\"T_5f486_row0_col5\" class=\"data row0 col5\" >0</td>\n",
       "      <td id=\"T_5f486_row0_col6\" class=\"data row0 col6\" >0</td>\n",
       "      <td id=\"T_5f486_row0_col7\" class=\"data row0 col7\" >0</td>\n",
       "      <td id=\"T_5f486_row0_col8\" class=\"data row0 col8\" >0</td>\n",
       "      <td id=\"T_5f486_row0_col9\" class=\"data row0 col9\" >0</td>\n",
       "      <td id=\"T_5f486_row0_col10\" class=\"data row0 col10\" >0</td>\n",
       "      <td id=\"T_5f486_row0_col11\" class=\"data row0 col11\" >0</td>\n",
       "      <td id=\"T_5f486_row0_col12\" class=\"data row0 col12\" >0</td>\n",
       "      <td id=\"T_5f486_row0_col13\" class=\"data row0 col13\" >0</td>\n",
       "      <td id=\"T_5f486_row0_col14\" class=\"data row0 col14\" >0</td>\n",
       "      <td id=\"T_5f486_row0_col15\" class=\"data row0 col15\" >0</td>\n",
       "      <td id=\"T_5f486_row0_col16\" class=\"data row0 col16\" >0</td>\n",
       "      <td id=\"T_5f486_row0_col17\" class=\"data row0 col17\" >0</td>\n",
       "    </tr>\n",
       "    <tr>\n",
       "      <th id=\"T_5f486_level0_row1\" class=\"row_heading level0 row1\" >1</th>\n",
       "      <td id=\"T_5f486_row1_col0\" class=\"data row1 col0\" >0</td>\n",
       "      <td id=\"T_5f486_row1_col1\" class=\"data row1 col1\" >0</td>\n",
       "      <td id=\"T_5f486_row1_col2\" class=\"data row1 col2\" >0</td>\n",
       "      <td id=\"T_5f486_row1_col3\" class=\"data row1 col3\" >0</td>\n",
       "      <td id=\"T_5f486_row1_col4\" class=\"data row1 col4\" >0</td>\n",
       "      <td id=\"T_5f486_row1_col5\" class=\"data row1 col5\" >29</td>\n",
       "      <td id=\"T_5f486_row1_col6\" class=\"data row1 col6\" >150</td>\n",
       "      <td id=\"T_5f486_row1_col7\" class=\"data row1 col7\" >195</td>\n",
       "      <td id=\"T_5f486_row1_col8\" class=\"data row1 col8\" >254</td>\n",
       "      <td id=\"T_5f486_row1_col9\" class=\"data row1 col9\" >255</td>\n",
       "      <td id=\"T_5f486_row1_col10\" class=\"data row1 col10\" >254</td>\n",
       "      <td id=\"T_5f486_row1_col11\" class=\"data row1 col11\" >176</td>\n",
       "      <td id=\"T_5f486_row1_col12\" class=\"data row1 col12\" >193</td>\n",
       "      <td id=\"T_5f486_row1_col13\" class=\"data row1 col13\" >150</td>\n",
       "      <td id=\"T_5f486_row1_col14\" class=\"data row1 col14\" >96</td>\n",
       "      <td id=\"T_5f486_row1_col15\" class=\"data row1 col15\" >0</td>\n",
       "      <td id=\"T_5f486_row1_col16\" class=\"data row1 col16\" >0</td>\n",
       "      <td id=\"T_5f486_row1_col17\" class=\"data row1 col17\" >0</td>\n",
       "    </tr>\n",
       "    <tr>\n",
       "      <th id=\"T_5f486_level0_row2\" class=\"row_heading level0 row2\" >2</th>\n",
       "      <td id=\"T_5f486_row2_col0\" class=\"data row2 col0\" >0</td>\n",
       "      <td id=\"T_5f486_row2_col1\" class=\"data row2 col1\" >0</td>\n",
       "      <td id=\"T_5f486_row2_col2\" class=\"data row2 col2\" >0</td>\n",
       "      <td id=\"T_5f486_row2_col3\" class=\"data row2 col3\" >48</td>\n",
       "      <td id=\"T_5f486_row2_col4\" class=\"data row2 col4\" >166</td>\n",
       "      <td id=\"T_5f486_row2_col5\" class=\"data row2 col5\" >224</td>\n",
       "      <td id=\"T_5f486_row2_col6\" class=\"data row2 col6\" >253</td>\n",
       "      <td id=\"T_5f486_row2_col7\" class=\"data row2 col7\" >253</td>\n",
       "      <td id=\"T_5f486_row2_col8\" class=\"data row2 col8\" >234</td>\n",
       "      <td id=\"T_5f486_row2_col9\" class=\"data row2 col9\" >196</td>\n",
       "      <td id=\"T_5f486_row2_col10\" class=\"data row2 col10\" >253</td>\n",
       "      <td id=\"T_5f486_row2_col11\" class=\"data row2 col11\" >253</td>\n",
       "      <td id=\"T_5f486_row2_col12\" class=\"data row2 col12\" >253</td>\n",
       "      <td id=\"T_5f486_row2_col13\" class=\"data row2 col13\" >253</td>\n",
       "      <td id=\"T_5f486_row2_col14\" class=\"data row2 col14\" >233</td>\n",
       "      <td id=\"T_5f486_row2_col15\" class=\"data row2 col15\" >0</td>\n",
       "      <td id=\"T_5f486_row2_col16\" class=\"data row2 col16\" >0</td>\n",
       "      <td id=\"T_5f486_row2_col17\" class=\"data row2 col17\" >0</td>\n",
       "    </tr>\n",
       "    <tr>\n",
       "      <th id=\"T_5f486_level0_row3\" class=\"row_heading level0 row3\" >3</th>\n",
       "      <td id=\"T_5f486_row3_col0\" class=\"data row3 col0\" >0</td>\n",
       "      <td id=\"T_5f486_row3_col1\" class=\"data row3 col1\" >93</td>\n",
       "      <td id=\"T_5f486_row3_col2\" class=\"data row3 col2\" >244</td>\n",
       "      <td id=\"T_5f486_row3_col3\" class=\"data row3 col3\" >249</td>\n",
       "      <td id=\"T_5f486_row3_col4\" class=\"data row3 col4\" >253</td>\n",
       "      <td id=\"T_5f486_row3_col5\" class=\"data row3 col5\" >187</td>\n",
       "      <td id=\"T_5f486_row3_col6\" class=\"data row3 col6\" >46</td>\n",
       "      <td id=\"T_5f486_row3_col7\" class=\"data row3 col7\" >10</td>\n",
       "      <td id=\"T_5f486_row3_col8\" class=\"data row3 col8\" >8</td>\n",
       "      <td id=\"T_5f486_row3_col9\" class=\"data row3 col9\" >4</td>\n",
       "      <td id=\"T_5f486_row3_col10\" class=\"data row3 col10\" >10</td>\n",
       "      <td id=\"T_5f486_row3_col11\" class=\"data row3 col11\" >194</td>\n",
       "      <td id=\"T_5f486_row3_col12\" class=\"data row3 col12\" >253</td>\n",
       "      <td id=\"T_5f486_row3_col13\" class=\"data row3 col13\" >253</td>\n",
       "      <td id=\"T_5f486_row3_col14\" class=\"data row3 col14\" >233</td>\n",
       "      <td id=\"T_5f486_row3_col15\" class=\"data row3 col15\" >0</td>\n",
       "      <td id=\"T_5f486_row3_col16\" class=\"data row3 col16\" >0</td>\n",
       "      <td id=\"T_5f486_row3_col17\" class=\"data row3 col17\" >0</td>\n",
       "    </tr>\n",
       "    <tr>\n",
       "      <th id=\"T_5f486_level0_row4\" class=\"row_heading level0 row4\" >4</th>\n",
       "      <td id=\"T_5f486_row4_col0\" class=\"data row4 col0\" >0</td>\n",
       "      <td id=\"T_5f486_row4_col1\" class=\"data row4 col1\" >107</td>\n",
       "      <td id=\"T_5f486_row4_col2\" class=\"data row4 col2\" >253</td>\n",
       "      <td id=\"T_5f486_row4_col3\" class=\"data row4 col3\" >253</td>\n",
       "      <td id=\"T_5f486_row4_col4\" class=\"data row4 col4\" >230</td>\n",
       "      <td id=\"T_5f486_row4_col5\" class=\"data row4 col5\" >48</td>\n",
       "      <td id=\"T_5f486_row4_col6\" class=\"data row4 col6\" >0</td>\n",
       "      <td id=\"T_5f486_row4_col7\" class=\"data row4 col7\" >0</td>\n",
       "      <td id=\"T_5f486_row4_col8\" class=\"data row4 col8\" >0</td>\n",
       "      <td id=\"T_5f486_row4_col9\" class=\"data row4 col9\" >0</td>\n",
       "      <td id=\"T_5f486_row4_col10\" class=\"data row4 col10\" >0</td>\n",
       "      <td id=\"T_5f486_row4_col11\" class=\"data row4 col11\" >192</td>\n",
       "      <td id=\"T_5f486_row4_col12\" class=\"data row4 col12\" >253</td>\n",
       "      <td id=\"T_5f486_row4_col13\" class=\"data row4 col13\" >253</td>\n",
       "      <td id=\"T_5f486_row4_col14\" class=\"data row4 col14\" >156</td>\n",
       "      <td id=\"T_5f486_row4_col15\" class=\"data row4 col15\" >0</td>\n",
       "      <td id=\"T_5f486_row4_col16\" class=\"data row4 col16\" >0</td>\n",
       "      <td id=\"T_5f486_row4_col17\" class=\"data row4 col17\" >0</td>\n",
       "    </tr>\n",
       "    <tr>\n",
       "      <th id=\"T_5f486_level0_row5\" class=\"row_heading level0 row5\" >5</th>\n",
       "      <td id=\"T_5f486_row5_col0\" class=\"data row5 col0\" >0</td>\n",
       "      <td id=\"T_5f486_row5_col1\" class=\"data row5 col1\" >3</td>\n",
       "      <td id=\"T_5f486_row5_col2\" class=\"data row5 col2\" >20</td>\n",
       "      <td id=\"T_5f486_row5_col3\" class=\"data row5 col3\" >20</td>\n",
       "      <td id=\"T_5f486_row5_col4\" class=\"data row5 col4\" >15</td>\n",
       "      <td id=\"T_5f486_row5_col5\" class=\"data row5 col5\" >0</td>\n",
       "      <td id=\"T_5f486_row5_col6\" class=\"data row5 col6\" >0</td>\n",
       "      <td id=\"T_5f486_row5_col7\" class=\"data row5 col7\" >0</td>\n",
       "      <td id=\"T_5f486_row5_col8\" class=\"data row5 col8\" >0</td>\n",
       "      <td id=\"T_5f486_row5_col9\" class=\"data row5 col9\" >0</td>\n",
       "      <td id=\"T_5f486_row5_col10\" class=\"data row5 col10\" >43</td>\n",
       "      <td id=\"T_5f486_row5_col11\" class=\"data row5 col11\" >224</td>\n",
       "      <td id=\"T_5f486_row5_col12\" class=\"data row5 col12\" >253</td>\n",
       "      <td id=\"T_5f486_row5_col13\" class=\"data row5 col13\" >245</td>\n",
       "      <td id=\"T_5f486_row5_col14\" class=\"data row5 col14\" >74</td>\n",
       "      <td id=\"T_5f486_row5_col15\" class=\"data row5 col15\" >0</td>\n",
       "      <td id=\"T_5f486_row5_col16\" class=\"data row5 col16\" >0</td>\n",
       "      <td id=\"T_5f486_row5_col17\" class=\"data row5 col17\" >0</td>\n",
       "    </tr>\n",
       "    <tr>\n",
       "      <th id=\"T_5f486_level0_row6\" class=\"row_heading level0 row6\" >6</th>\n",
       "      <td id=\"T_5f486_row6_col0\" class=\"data row6 col0\" >0</td>\n",
       "      <td id=\"T_5f486_row6_col1\" class=\"data row6 col1\" >0</td>\n",
       "      <td id=\"T_5f486_row6_col2\" class=\"data row6 col2\" >0</td>\n",
       "      <td id=\"T_5f486_row6_col3\" class=\"data row6 col3\" >0</td>\n",
       "      <td id=\"T_5f486_row6_col4\" class=\"data row6 col4\" >0</td>\n",
       "      <td id=\"T_5f486_row6_col5\" class=\"data row6 col5\" >0</td>\n",
       "      <td id=\"T_5f486_row6_col6\" class=\"data row6 col6\" >0</td>\n",
       "      <td id=\"T_5f486_row6_col7\" class=\"data row6 col7\" >0</td>\n",
       "      <td id=\"T_5f486_row6_col8\" class=\"data row6 col8\" >0</td>\n",
       "      <td id=\"T_5f486_row6_col9\" class=\"data row6 col9\" >0</td>\n",
       "      <td id=\"T_5f486_row6_col10\" class=\"data row6 col10\" >249</td>\n",
       "      <td id=\"T_5f486_row6_col11\" class=\"data row6 col11\" >253</td>\n",
       "      <td id=\"T_5f486_row6_col12\" class=\"data row6 col12\" >245</td>\n",
       "      <td id=\"T_5f486_row6_col13\" class=\"data row6 col13\" >126</td>\n",
       "      <td id=\"T_5f486_row6_col14\" class=\"data row6 col14\" >0</td>\n",
       "      <td id=\"T_5f486_row6_col15\" class=\"data row6 col15\" >0</td>\n",
       "      <td id=\"T_5f486_row6_col16\" class=\"data row6 col16\" >0</td>\n",
       "      <td id=\"T_5f486_row6_col17\" class=\"data row6 col17\" >0</td>\n",
       "    </tr>\n",
       "    <tr>\n",
       "      <th id=\"T_5f486_level0_row7\" class=\"row_heading level0 row7\" >7</th>\n",
       "      <td id=\"T_5f486_row7_col0\" class=\"data row7 col0\" >0</td>\n",
       "      <td id=\"T_5f486_row7_col1\" class=\"data row7 col1\" >0</td>\n",
       "      <td id=\"T_5f486_row7_col2\" class=\"data row7 col2\" >0</td>\n",
       "      <td id=\"T_5f486_row7_col3\" class=\"data row7 col3\" >0</td>\n",
       "      <td id=\"T_5f486_row7_col4\" class=\"data row7 col4\" >0</td>\n",
       "      <td id=\"T_5f486_row7_col5\" class=\"data row7 col5\" >0</td>\n",
       "      <td id=\"T_5f486_row7_col6\" class=\"data row7 col6\" >0</td>\n",
       "      <td id=\"T_5f486_row7_col7\" class=\"data row7 col7\" >14</td>\n",
       "      <td id=\"T_5f486_row7_col8\" class=\"data row7 col8\" >101</td>\n",
       "      <td id=\"T_5f486_row7_col9\" class=\"data row7 col9\" >223</td>\n",
       "      <td id=\"T_5f486_row7_col10\" class=\"data row7 col10\" >253</td>\n",
       "      <td id=\"T_5f486_row7_col11\" class=\"data row7 col11\" >248</td>\n",
       "      <td id=\"T_5f486_row7_col12\" class=\"data row7 col12\" >124</td>\n",
       "      <td id=\"T_5f486_row7_col13\" class=\"data row7 col13\" >0</td>\n",
       "      <td id=\"T_5f486_row7_col14\" class=\"data row7 col14\" >0</td>\n",
       "      <td id=\"T_5f486_row7_col15\" class=\"data row7 col15\" >0</td>\n",
       "      <td id=\"T_5f486_row7_col16\" class=\"data row7 col16\" >0</td>\n",
       "      <td id=\"T_5f486_row7_col17\" class=\"data row7 col17\" >0</td>\n",
       "    </tr>\n",
       "    <tr>\n",
       "      <th id=\"T_5f486_level0_row8\" class=\"row_heading level0 row8\" >8</th>\n",
       "      <td id=\"T_5f486_row8_col0\" class=\"data row8 col0\" >0</td>\n",
       "      <td id=\"T_5f486_row8_col1\" class=\"data row8 col1\" >0</td>\n",
       "      <td id=\"T_5f486_row8_col2\" class=\"data row8 col2\" >0</td>\n",
       "      <td id=\"T_5f486_row8_col3\" class=\"data row8 col3\" >0</td>\n",
       "      <td id=\"T_5f486_row8_col4\" class=\"data row8 col4\" >0</td>\n",
       "      <td id=\"T_5f486_row8_col5\" class=\"data row8 col5\" >11</td>\n",
       "      <td id=\"T_5f486_row8_col6\" class=\"data row8 col6\" >166</td>\n",
       "      <td id=\"T_5f486_row8_col7\" class=\"data row8 col7\" >239</td>\n",
       "      <td id=\"T_5f486_row8_col8\" class=\"data row8 col8\" >253</td>\n",
       "      <td id=\"T_5f486_row8_col9\" class=\"data row8 col9\" >253</td>\n",
       "      <td id=\"T_5f486_row8_col10\" class=\"data row8 col10\" >253</td>\n",
       "      <td id=\"T_5f486_row8_col11\" class=\"data row8 col11\" >187</td>\n",
       "      <td id=\"T_5f486_row8_col12\" class=\"data row8 col12\" >30</td>\n",
       "      <td id=\"T_5f486_row8_col13\" class=\"data row8 col13\" >0</td>\n",
       "      <td id=\"T_5f486_row8_col14\" class=\"data row8 col14\" >0</td>\n",
       "      <td id=\"T_5f486_row8_col15\" class=\"data row8 col15\" >0</td>\n",
       "      <td id=\"T_5f486_row8_col16\" class=\"data row8 col16\" >0</td>\n",
       "      <td id=\"T_5f486_row8_col17\" class=\"data row8 col17\" >0</td>\n",
       "    </tr>\n",
       "    <tr>\n",
       "      <th id=\"T_5f486_level0_row9\" class=\"row_heading level0 row9\" >9</th>\n",
       "      <td id=\"T_5f486_row9_col0\" class=\"data row9 col0\" >0</td>\n",
       "      <td id=\"T_5f486_row9_col1\" class=\"data row9 col1\" >0</td>\n",
       "      <td id=\"T_5f486_row9_col2\" class=\"data row9 col2\" >0</td>\n",
       "      <td id=\"T_5f486_row9_col3\" class=\"data row9 col3\" >0</td>\n",
       "      <td id=\"T_5f486_row9_col4\" class=\"data row9 col4\" >0</td>\n",
       "      <td id=\"T_5f486_row9_col5\" class=\"data row9 col5\" >16</td>\n",
       "      <td id=\"T_5f486_row9_col6\" class=\"data row9 col6\" >248</td>\n",
       "      <td id=\"T_5f486_row9_col7\" class=\"data row9 col7\" >250</td>\n",
       "      <td id=\"T_5f486_row9_col8\" class=\"data row9 col8\" >253</td>\n",
       "      <td id=\"T_5f486_row9_col9\" class=\"data row9 col9\" >253</td>\n",
       "      <td id=\"T_5f486_row9_col10\" class=\"data row9 col10\" >253</td>\n",
       "      <td id=\"T_5f486_row9_col11\" class=\"data row9 col11\" >253</td>\n",
       "      <td id=\"T_5f486_row9_col12\" class=\"data row9 col12\" >232</td>\n",
       "      <td id=\"T_5f486_row9_col13\" class=\"data row9 col13\" >213</td>\n",
       "      <td id=\"T_5f486_row9_col14\" class=\"data row9 col14\" >111</td>\n",
       "      <td id=\"T_5f486_row9_col15\" class=\"data row9 col15\" >2</td>\n",
       "      <td id=\"T_5f486_row9_col16\" class=\"data row9 col16\" >0</td>\n",
       "      <td id=\"T_5f486_row9_col17\" class=\"data row9 col17\" >0</td>\n",
       "    </tr>\n",
       "    <tr>\n",
       "      <th id=\"T_5f486_level0_row10\" class=\"row_heading level0 row10\" >10</th>\n",
       "      <td id=\"T_5f486_row10_col0\" class=\"data row10 col0\" >0</td>\n",
       "      <td id=\"T_5f486_row10_col1\" class=\"data row10 col1\" >0</td>\n",
       "      <td id=\"T_5f486_row10_col2\" class=\"data row10 col2\" >0</td>\n",
       "      <td id=\"T_5f486_row10_col3\" class=\"data row10 col3\" >0</td>\n",
       "      <td id=\"T_5f486_row10_col4\" class=\"data row10 col4\" >0</td>\n",
       "      <td id=\"T_5f486_row10_col5\" class=\"data row10 col5\" >0</td>\n",
       "      <td id=\"T_5f486_row10_col6\" class=\"data row10 col6\" >0</td>\n",
       "      <td id=\"T_5f486_row10_col7\" class=\"data row10 col7\" >43</td>\n",
       "      <td id=\"T_5f486_row10_col8\" class=\"data row10 col8\" >98</td>\n",
       "      <td id=\"T_5f486_row10_col9\" class=\"data row10 col9\" >98</td>\n",
       "      <td id=\"T_5f486_row10_col10\" class=\"data row10 col10\" >208</td>\n",
       "      <td id=\"T_5f486_row10_col11\" class=\"data row10 col11\" >253</td>\n",
       "      <td id=\"T_5f486_row10_col12\" class=\"data row10 col12\" >253</td>\n",
       "      <td id=\"T_5f486_row10_col13\" class=\"data row10 col13\" >253</td>\n",
       "      <td id=\"T_5f486_row10_col14\" class=\"data row10 col14\" >253</td>\n",
       "      <td id=\"T_5f486_row10_col15\" class=\"data row10 col15\" >187</td>\n",
       "      <td id=\"T_5f486_row10_col16\" class=\"data row10 col16\" >22</td>\n",
       "      <td id=\"T_5f486_row10_col17\" class=\"data row10 col17\" >0</td>\n",
       "    </tr>\n",
       "  </tbody>\n",
       "</table>\n"
      ],
      "text/plain": [
       "<pandas.io.formats.style.Styler at 0x7d038d00df10>"
      ]
     },
     "execution_count": 196,
     "metadata": {},
     "output_type": "execute_result"
    }
   ],
   "source": [
    "im3_t = tensor(im3)\n",
    "df = pd.DataFrame(im3_t[4:15,4:22])\n",
    "df.style.set_properties(**{'font-size':'6pt'}).background_gradient('Greys')"
   ]
  },
  {
   "cell_type": "code",
   "execution_count": 197,
   "metadata": {},
   "outputs": [
    {
     "data": {
      "text/plain": [
       "(6131, 6265)"
      ]
     },
     "execution_count": 197,
     "metadata": {},
     "output_type": "execute_result"
    }
   ],
   "source": [
    "seven_tensors = [tensor(Image.open(o)) for o in sevens]\n",
    "three_tensors = [tensor(Image.open(o)) for o in threes]\n",
    "len(three_tensors),len(seven_tensors)"
   ]
  },
  {
   "cell_type": "code",
   "execution_count": 198,
   "metadata": {},
   "outputs": [
    {
     "data": {
      "image/png": "[encoded data removed]",
      "text/plain": [
       "<Figure size 100x100 with 1 Axes>"
      ]
     },
     "metadata": {},
     "output_type": "display_data"
    }
   ],
   "source": [
    "show_image(three_tensors[7]); "
   ]
  },
  {
   "cell_type": "code",
   "execution_count": 199,
   "metadata": {},
   "outputs": [
    {
     "data": {
      "text/plain": [
       "torch.Size([6131, 28, 28])"
      ]
     },
     "execution_count": 199,
     "metadata": {},
     "output_type": "execute_result"
    }
   ],
   "source": [
    "stacked_sevens = torch.stack(seven_tensors).float()/255\n",
    "stacked_threes = torch.stack(three_tensors).float()/255\n",
    "stacked_threes.shape"
   ]
  },
  {
   "cell_type": "code",
   "execution_count": 200,
   "metadata": {},
   "outputs": [
    {
     "data": {
      "text/plain": [
       "3"
      ]
     },
     "execution_count": 200,
     "metadata": {},
     "output_type": "execute_result"
    }
   ],
   "source": [
    "len(stacked_threes.shape)"
   ]
  },
  {
   "cell_type": "code",
   "execution_count": 201,
   "metadata": {},
   "outputs": [
    {
     "data": {
      "text/plain": [
       "3"
      ]
     },
     "execution_count": 201,
     "metadata": {},
     "output_type": "execute_result"
    }
   ],
   "source": [
    "stacked_threes.ndim"
   ]
  },
  {
   "cell_type": "code",
   "execution_count": 202,
   "metadata": {},
   "outputs": [
    {
     "data": {
      "image/png": "[encoded data removed]",
      "text/plain": [
       "<Figure size 100x100 with 1 Axes>"
      ]
     },
     "metadata": {},
     "output_type": "display_data"
    }
   ],
   "source": [
    "mean3 = stacked_threes.mean(0)\n",
    "show_image(mean3);"
   ]
  },
  {
   "cell_type": "code",
   "execution_count": 203,
   "metadata": {},
   "outputs": [
    {
     "data": {
      "image/png": "[encoded data removed]",
      "text/plain": [
       "<Figure size 100x100 with 1 Axes>"
      ]
     },
     "metadata": {},
     "output_type": "display_data"
    }
   ],
   "source": [
    "mean7 = stacked_sevens.mean(0)\n",
    "show_image(mean7);"
   ]
  },
  {
   "cell_type": "code",
   "execution_count": 204,
   "metadata": {},
   "outputs": [
    {
     "data": {
      "image/png": "[encoded data removed]",
      "text/plain": [
       "<Figure size 100x100 with 1 Axes>"
      ]
     },
     "metadata": {},
     "output_type": "display_data"
    }
   ],
   "source": [
    "a_3 = stacked_threes[1]\n",
    "show_image(a_3);"
   ]
  },
  {
   "cell_type": "code",
   "execution_count": 205,
   "metadata": {},
   "outputs": [
    {
     "data": {
      "text/plain": [
       "(tensor(0.1114), tensor(0.2021))"
      ]
     },
     "execution_count": 205,
     "metadata": {},
     "output_type": "execute_result"
    }
   ],
   "source": [
    "dist_3_abs = (a_3 - mean3).abs().mean()\n",
    "dist_3_sqr = ((a_3 - mean3)**2).mean().sqrt()\n",
    "dist_3_abs,dist_3_sqr"
   ]
  },
  {
   "cell_type": "code",
   "execution_count": 206,
   "metadata": {},
   "outputs": [
    {
     "data": {
      "text/plain": [
       "(tensor(0.1586), tensor(0.3021))"
      ]
     },
     "execution_count": 206,
     "metadata": {},
     "output_type": "execute_result"
    }
   ],
   "source": [
    "dist_7_abs = (a_3 - mean7).abs().mean()\n",
    "dist_7_sqr = ((a_3 - mean7)**2).mean().sqrt()\n",
    "dist_7_abs,dist_7_sqr"
   ]
  },
  {
   "cell_type": "code",
   "execution_count": 207,
   "metadata": {},
   "outputs": [
    {
     "data": {
      "text/plain": [
       "(torch.Size([1010, 28, 28]), torch.Size([1028, 28, 28]))"
      ]
     },
     "execution_count": 207,
     "metadata": {},
     "output_type": "execute_result"
    }
   ],
   "source": [
    "valid_3_tens = torch.stack([tensor(Image.open(o))\n",
    "for o in (path/'valid'/'3').ls()])\n",
    "valid_3_tens = valid_3_tens.float()/255\n",
    "valid_7_tens = torch.stack([tensor(Image.open(o))\n",
    "for o in (path/'valid'/'7').ls()])\n",
    "valid_7_tens = valid_7_tens.float()/255\n",
    "valid_3_tens.shape,valid_7_tens.shape"
   ]
  },
  {
   "cell_type": "code",
   "execution_count": 208,
   "metadata": {},
   "outputs": [
    {
     "data": {
      "text/plain": [
       "tensor(0.1114)"
      ]
     },
     "execution_count": 208,
     "metadata": {},
     "output_type": "execute_result"
    }
   ],
   "source": [
    "def mnist_distance(a,b): return (a-b).abs().mean((-1,-2))\n",
    "mnist_distance(a_3, mean3)"
   ]
  },
  {
   "cell_type": "code",
   "execution_count": 209,
   "metadata": {},
   "outputs": [
    {
     "data": {
      "text/plain": [
       "(tensor([0.1470, 0.1633, 0.1359,  ..., 0.1413, 0.1367, 0.1175]),\n",
       " torch.Size([1010]))"
      ]
     },
     "execution_count": 209,
     "metadata": {},
     "output_type": "execute_result"
    }
   ],
   "source": [
    "valid_3_dist = mnist_distance(valid_3_tens, mean3)\n",
    "valid_3_dist, valid_3_dist.shape"
   ]
  },
  {
   "cell_type": "code",
   "execution_count": 210,
   "metadata": {},
   "outputs": [],
   "source": [
    "def is_3(x): return mnist_distance(x,mean3) < mnist_distance(x,mean7)"
   ]
  },
  {
   "cell_type": "code",
   "execution_count": 211,
   "metadata": {},
   "outputs": [
    {
     "data": {
      "text/plain": [
       "(tensor(True), tensor(1.))"
      ]
     },
     "execution_count": 211,
     "metadata": {},
     "output_type": "execute_result"
    }
   ],
   "source": [
    "is_3(a_3), is_3(a_3).float()"
   ]
  },
  {
   "cell_type": "code",
   "execution_count": 212,
   "metadata": {},
   "outputs": [
    {
     "data": {
      "text/plain": [
       "tensor([True, True, True,  ..., True, True, True])"
      ]
     },
     "execution_count": 212,
     "metadata": {},
     "output_type": "execute_result"
    }
   ],
   "source": [
    "is_3(valid_3_tens)"
   ]
  },
  {
   "cell_type": "code",
   "execution_count": 213,
   "metadata": {},
   "outputs": [
    {
     "data": {
      "text/plain": [
       "(tensor(0.9168), tensor(0.9854), tensor(0.9511))"
      ]
     },
     "execution_count": 213,
     "metadata": {},
     "output_type": "execute_result"
    }
   ],
   "source": [
    "accuracy_3s = is_3(valid_3_tens).float() .mean()\n",
    "accuracy_7s = (1 - is_3(valid_7_tens).float()).mean()\n",
    "accuracy_3s,accuracy_7s,(accuracy_3s+accuracy_7s)/2"
   ]
  },
  {
   "attachments": {
    "image.png": {
     "image/png": "[encoded data removed]"
    }
   },
   "cell_type": "markdown",
   "metadata": {},
   "source": [
    "![image.png](attachment:image.png)"
   ]
  },
  {
   "cell_type": "code",
   "execution_count": 214,
   "metadata": {},
   "outputs": [],
   "source": [
    "def f(x): return x**2"
   ]
  },
  {
   "cell_type": "code",
   "execution_count": 215,
   "metadata": {},
   "outputs": [
    {
     "data": {
      "image/png": "[encoded data removed]",
      "text/plain": [
       "<Figure size 600x400 with 1 Axes>"
      ]
     },
     "metadata": {},
     "output_type": "display_data"
    }
   ],
   "source": [
    "plot_function(f, 'x', 'x**2')"
   ]
  },
  {
   "cell_type": "code",
   "execution_count": 216,
   "metadata": {},
   "outputs": [
    {
     "data": {
      "image/png": "[encoded data removed]",
      "text/plain": [
       "<Figure size 600x400 with 1 Axes>"
      ]
     },
     "metadata": {},
     "output_type": "display_data"
    }
   ],
   "source": [
    "plot_function(f, 'x', 'x**2')\n",
    "plt.scatter(-1.5, f(-1.5), color='red');"
   ]
  },
  {
   "cell_type": "code",
   "execution_count": 217,
   "metadata": {},
   "outputs": [
    {
     "data": {
      "text/plain": [
       "tensor(6.)"
      ]
     },
     "execution_count": 217,
     "metadata": {},
     "output_type": "execute_result"
    }
   ],
   "source": [
    "xt = tensor(3.).requires_grad_()\n",
    "yt = f(xt)\n",
    "yt.backward()\n",
    "xt.grad\n",
    "tensor(6.)"
   ]
  },
  {
   "cell_type": "code",
   "execution_count": 218,
   "metadata": {},
   "outputs": [
    {
     "data": {
      "text/plain": [
       "tensor([ 3.,  4., 10.], requires_grad=True)"
      ]
     },
     "execution_count": 218,
     "metadata": {},
     "output_type": "execute_result"
    }
   ],
   "source": [
    "xt = tensor([3.,4.,10.]).requires_grad_()\n",
    "xt"
   ]
  },
  {
   "cell_type": "code",
   "execution_count": 219,
   "metadata": {},
   "outputs": [
    {
     "data": {
      "text/plain": [
       "tensor(125., grad_fn=<SumBackward0>)"
      ]
     },
     "execution_count": 219,
     "metadata": {},
     "output_type": "execute_result"
    }
   ],
   "source": [
    "def f(x): return (x**2).sum()\n",
    "yt = f(xt)\n",
    "yt"
   ]
  },
  {
   "cell_type": "code",
   "execution_count": 220,
   "metadata": {},
   "outputs": [
    {
     "data": {
      "text/plain": [
       "tensor([ 6.,  8., 20.])"
      ]
     },
     "execution_count": 220,
     "metadata": {},
     "output_type": "execute_result"
    }
   ],
   "source": [
    "yt.backward()\n",
    "xt.grad"
   ]
  },
  {
   "cell_type": "code",
   "execution_count": 221,
   "metadata": {},
   "outputs": [
    {
     "data": {
      "text/plain": [
       "tensor([ 0.,  1.,  2.,  3.,  4.,  5.,  6.,  7.,  8.,  9., 10., 11., 12., 13., 14., 15., 16., 17., 18., 19.])"
      ]
     },
     "execution_count": 221,
     "metadata": {},
     "output_type": "execute_result"
    }
   ],
   "source": [
    "time = torch.arange(0,20).float(); time"
   ]
  },
  {
   "cell_type": "code",
   "execution_count": 222,
   "metadata": {},
   "outputs": [
    {
     "data": {
      "text/plain": [
       "tensor([68.3685, 55.4076, 44.4451, 30.2411, 29.3986, 12.8281,  3.5521,  3.9611,  3.9833,  3.6889,  0.8076,  2.5519,  7.4469, 10.8185, 15.9909, 25.5206, 34.6822, 42.4376, 55.8360, 66.8506])"
      ]
     },
     "execution_count": 222,
     "metadata": {},
     "output_type": "execute_result"
    }
   ],
   "source": [
    "speed = torch.randn(20)*3 + 0.75*(time-9.5)**2 + 1\n",
    "speed"
   ]
  },
  {
   "cell_type": "code",
   "execution_count": 223,
   "metadata": {},
   "outputs": [
    {
     "data": {
      "image/png": "[encoded data removed]",
      "text/plain": [
       "<Figure size 640x480 with 1 Axes>"
      ]
     },
     "metadata": {},
     "output_type": "display_data"
    }
   ],
   "source": [
    "plt.scatter(time,speed);"
   ]
  },
  {
   "cell_type": "code",
   "execution_count": 224,
   "metadata": {},
   "outputs": [],
   "source": [
    "def f(t, params):\n",
    "    a,b,c = params\n",
    "    return a*(t**2) + (b*t) + c"
   ]
  },
  {
   "cell_type": "code",
   "execution_count": 225,
   "metadata": {},
   "outputs": [],
   "source": [
    "def mse(preds, targets): return ((preds-targets)**2).mean()"
   ]
  },
  {
   "cell_type": "code",
   "execution_count": 226,
   "metadata": {},
   "outputs": [],
   "source": [
    "params = torch.randn(3).requires_grad_()"
   ]
  },
  {
   "cell_type": "code",
   "execution_count": 227,
   "metadata": {},
   "outputs": [],
   "source": [
    "preds = f(time, params)"
   ]
  },
  {
   "cell_type": "code",
   "execution_count": 228,
   "metadata": {},
   "outputs": [
    {
     "data": {
      "image/png": "[encoded data removed]",
      "text/plain": [
       "<Figure size 640x480 with 1 Axes>"
      ]
     },
     "metadata": {},
     "output_type": "display_data"
    }
   ],
   "source": [
    "def show_preds(preds, ax=None):\n",
    "    if ax is None: ax=plt.subplots()[1]\n",
    "    ax.scatter(time, speed)\n",
    "    ax.scatter(time, preds.detach().numpy(), color='red')\n",
    "    ax.set_ylim(-300,100)\n",
    "show_preds(preds)"
   ]
  },
  {
   "cell_type": "code",
   "execution_count": 229,
   "metadata": {},
   "outputs": [
    {
     "data": {
      "text/plain": [
       "tensor(3650.9380, grad_fn=<MeanBackward0>)"
      ]
     },
     "execution_count": 229,
     "metadata": {},
     "output_type": "execute_result"
    }
   ],
   "source": [
    "loss = mse(preds, speed)\n",
    "loss"
   ]
  },
  {
   "cell_type": "code",
   "execution_count": 230,
   "metadata": {},
   "outputs": [
    {
     "data": {
      "text/plain": [
       "tensor([18362.3672,  1181.5371,    62.6102])"
      ]
     },
     "execution_count": 230,
     "metadata": {},
     "output_type": "execute_result"
    }
   ],
   "source": [
    "loss.backward()\n",
    "params.grad"
   ]
  },
  {
   "cell_type": "code",
   "execution_count": 231,
   "metadata": {},
   "outputs": [
    {
     "data": {
      "text/plain": [
       "tensor([0.1836, 0.0118, 0.0006])"
      ]
     },
     "execution_count": 231,
     "metadata": {},
     "output_type": "execute_result"
    }
   ],
   "source": [
    "params.grad * 1e-5"
   ]
  },
  {
   "cell_type": "code",
   "execution_count": 232,
   "metadata": {},
   "outputs": [
    {
     "data": {
      "text/plain": [
       "tensor([ 0.4527,  0.2614, -1.1479], requires_grad=True)"
      ]
     },
     "execution_count": 232,
     "metadata": {},
     "output_type": "execute_result"
    }
   ],
   "source": [
    "params"
   ]
  },
  {
   "cell_type": "code",
   "execution_count": 233,
   "metadata": {},
   "outputs": [],
   "source": [
    "lr = 1e-5\n",
    "params.data -= lr * params.grad.data\n",
    "params.grad = None"
   ]
  },
  {
   "cell_type": "code",
   "execution_count": 234,
   "metadata": {},
   "outputs": [
    {
     "data": {
      "text/plain": [
       "tensor(1221.6399, grad_fn=<MeanBackward0>)"
      ]
     },
     "execution_count": 234,
     "metadata": {},
     "output_type": "execute_result"
    }
   ],
   "source": [
    "preds = f(time,params)\n",
    "mse(preds, speed)"
   ]
  },
  {
   "cell_type": "code",
   "execution_count": 235,
   "metadata": {},
   "outputs": [
    {
     "data": {
      "image/png": "[encoded data removed]",
      "text/plain": [
       "<Figure size 640x480 with 1 Axes>"
      ]
     },
     "metadata": {},
     "output_type": "display_data"
    }
   ],
   "source": [
    "show_preds(preds)"
   ]
  },
  {
   "cell_type": "code",
   "execution_count": 236,
   "metadata": {},
   "outputs": [],
   "source": [
    "def apply_step(params, prn=True):\n",
    "    preds = f(time, params)\n",
    "    loss = mse(preds, speed)\n",
    "    loss.backward()\n",
    "    params.data -= lr * params.grad.data\n",
    "    params.grad = None\n",
    "    if prn: print(loss.item())\n",
    "    return preds"
   ]
  },
  {
   "cell_type": "code",
   "execution_count": 237,
   "metadata": {},
   "outputs": [
    {
     "name": "stdout",
     "output_type": "stream",
     "text": [
      "1221.639892578125\n",
      "761.9398803710938\n",
      "674.9478149414062\n",
      "658.4835815429688\n",
      "655.3652954101562\n",
      "654.7725830078125\n",
      "654.6576538085938\n",
      "654.6331176757812\n",
      "654.6259155273438\n",
      "654.62158203125\n",
      "654.6182250976562\n",
      "654.61474609375\n",
      "654.6113891601562\n",
      "654.6080932617188\n",
      "654.6046142578125\n",
      "654.6012573242188\n",
      "654.5980224609375\n",
      "654.5946044921875\n",
      "654.5912475585938\n",
      "654.5880126953125\n"
     ]
    }
   ],
   "source": [
    "for i in range(20): apply_step(params)"
   ]
  },
  {
   "cell_type": "code",
   "execution_count": 238,
   "metadata": {},
   "outputs": [
    {
     "data": {
      "image/png": "[encoded data removed]",
      "text/plain": [
       "<Figure size 1200x300 with 4 Axes>"
      ]
     },
     "metadata": {},
     "output_type": "display_data"
    }
   ],
   "source": [
    "_,axs = plt.subplots(1,4,figsize=(12,3))\n",
    "for ax in axs: show_preds(apply_step(params, False), ax)\n",
    "plt.tight_layout()"
   ]
  },
  {
   "cell_type": "code",
   "execution_count": 239,
   "metadata": {},
   "outputs": [
    {
     "data": {
      "text/plain": [
       "tensor([[0., 0., 0.,  ..., 0., 0., 0.],\n",
       "        [0., 0., 0.,  ..., 0., 0., 0.],\n",
       "        [0., 0., 0.,  ..., 0., 0., 0.],\n",
       "        ...,\n",
       "        [0., 0., 0.,  ..., 0., 0., 0.],\n",
       "        [0., 0., 0.,  ..., 0., 0., 0.],\n",
       "        [0., 0., 0.,  ..., 0., 0., 0.]])"
      ]
     },
     "execution_count": 239,
     "metadata": {},
     "output_type": "execute_result"
    }
   ],
   "source": [
    "train_x = torch.cat([stacked_threes, stacked_sevens]).view(-1, 28*28)\n",
    "train_x"
   ]
  },
  {
   "cell_type": "code",
   "execution_count": 240,
   "metadata": {},
   "outputs": [
    {
     "data": {
      "text/plain": [
       "(torch.Size([12396, 784]), torch.Size([12396, 1]))"
      ]
     },
     "execution_count": 240,
     "metadata": {},
     "output_type": "execute_result"
    }
   ],
   "source": [
    "train_y = tensor([1]*len(threes) + [0]*len(sevens)).unsqueeze(1)\n",
    "train_x.shape,train_y.shape"
   ]
  },
  {
   "cell_type": "code",
   "execution_count": 241,
   "metadata": {},
   "outputs": [
    {
     "data": {
      "text/plain": [
       "(torch.Size([784]), tensor([1]))"
      ]
     },
     "execution_count": 241,
     "metadata": {},
     "output_type": "execute_result"
    }
   ],
   "source": [
    "dset = list(zip(train_x,train_y))\n",
    "x,y = dset[0]\n",
    "x.shape,y"
   ]
  },
  {
   "cell_type": "code",
   "execution_count": 242,
   "metadata": {},
   "outputs": [],
   "source": [
    "valid_x = torch.cat([valid_3_tens, valid_7_tens]).view(-1, 28*28)\n",
    "valid_y = tensor([1]*len(valid_3_tens) + [0]*len(valid_7_tens)).unsqueeze(1)\n",
    "valid_dset = list(zip(valid_x,valid_y))"
   ]
  },
  {
   "cell_type": "code",
   "execution_count": 243,
   "metadata": {},
   "outputs": [],
   "source": [
    "def init_params(size, std=1.0): return (torch.randn(size)*std).requires_grad_()\n",
    "weights = init_params((28*28,1))"
   ]
  },
  {
   "cell_type": "code",
   "execution_count": 244,
   "metadata": {},
   "outputs": [],
   "source": [
    "bias = init_params(1)"
   ]
  },
  {
   "cell_type": "code",
   "execution_count": 245,
   "metadata": {},
   "outputs": [
    {
     "data": {
      "text/plain": [
       "tensor([-6.2374], grad_fn=<AddBackward0>)"
      ]
     },
     "execution_count": 245,
     "metadata": {},
     "output_type": "execute_result"
    }
   ],
   "source": [
    "(train_x[0]*weights.T).sum() + bias"
   ]
  },
  {
   "cell_type": "code",
   "execution_count": 246,
   "metadata": {},
   "outputs": [
    {
     "data": {
      "text/plain": [
       "tensor([[ -6.2374],\n",
       "        [ -9.7081],\n",
       "        [-11.9811],\n",
       "        ...,\n",
       "        [  2.1520],\n",
       "        [  3.7024],\n",
       "        [  7.0136]], grad_fn=<AddBackward0>)"
      ]
     },
     "execution_count": 246,
     "metadata": {},
     "output_type": "execute_result"
    }
   ],
   "source": [
    "def linear1(xb): return xb@weights + bias\n",
    "preds = linear1(train_x)\n",
    "preds"
   ]
  },
  {
   "cell_type": "code",
   "execution_count": 247,
   "metadata": {},
   "outputs": [
    {
     "data": {
      "text/plain": [
       "tensor([[False],\n",
       "        [False],\n",
       "        [False],\n",
       "        ...,\n",
       "        [False],\n",
       "        [False],\n",
       "        [False]])"
      ]
     },
     "execution_count": 247,
     "metadata": {},
     "output_type": "execute_result"
    }
   ],
   "source": [
    "corrects = (preds>0.0).float() == train_y\n",
    "corrects"
   ]
  },
  {
   "cell_type": "code",
   "execution_count": 248,
   "metadata": {},
   "outputs": [
    {
     "data": {
      "text/plain": [
       "0.2968699634075165"
      ]
     },
     "execution_count": 248,
     "metadata": {},
     "output_type": "execute_result"
    }
   ],
   "source": [
    "corrects.float().mean().item()"
   ]
  },
  {
   "cell_type": "code",
   "execution_count": 249,
   "metadata": {},
   "outputs": [
    {
     "data": {
      "text/plain": [
       "0.2968699634075165"
      ]
     },
     "execution_count": 249,
     "metadata": {},
     "output_type": "execute_result"
    }
   ],
   "source": [
    "weights = weights.clone()\n",
    "weights[0] *= 1.0001\n",
    "preds = linear1(train_x)\n",
    "((preds>0.0).float() == train_y).float().mean().item()"
   ]
  },
  {
   "cell_type": "code",
   "execution_count": 250,
   "metadata": {},
   "outputs": [],
   "source": [
    "trgts= tensor([1,0,1])\n",
    "prds= tensor([0.9, 0.4, 0.2])"
   ]
  },
  {
   "cell_type": "code",
   "execution_count": 251,
   "metadata": {},
   "outputs": [],
   "source": [
    "def mnist_loss(predictions, targets):\n",
    "    return torch.where(targets==1, 1-predictions, predictions).mean()\n"
   ]
  },
  {
   "cell_type": "code",
   "execution_count": 252,
   "metadata": {},
   "outputs": [
    {
     "data": {
      "text/plain": [
       "tensor([0.1000, 0.4000, 0.8000])"
      ]
     },
     "execution_count": 252,
     "metadata": {},
     "output_type": "execute_result"
    }
   ],
   "source": [
    "torch.where(trgts==1, 1-prds, prds)"
   ]
  },
  {
   "cell_type": "code",
   "execution_count": 253,
   "metadata": {},
   "outputs": [
    {
     "data": {
      "text/plain": [
       "tensor(0.4333)"
      ]
     },
     "execution_count": 253,
     "metadata": {},
     "output_type": "execute_result"
    }
   ],
   "source": [
    "mnist_loss(prds,trgts)"
   ]
  },
  {
   "cell_type": "code",
   "execution_count": 254,
   "metadata": {},
   "outputs": [
    {
     "data": {
      "text/plain": [
       "tensor(0.2333)"
      ]
     },
     "execution_count": 254,
     "metadata": {},
     "output_type": "execute_result"
    }
   ],
   "source": [
    "mnist_loss(tensor([0.9, 0.4, 0.8]),trgts)"
   ]
  },
  {
   "cell_type": "markdown",
   "metadata": {},
   "source": [
    "##### Sigmoid"
   ]
  },
  {
   "cell_type": "code",
   "execution_count": 255,
   "metadata": {},
   "outputs": [],
   "source": [
    "def sigmoid(x): return 1/(1+torch.exp(-x))"
   ]
  },
  {
   "cell_type": "code",
   "execution_count": 256,
   "metadata": {},
   "outputs": [
    {
     "data": {
      "image/png": "[encoded data removed]",
      "text/plain": [
       "<Figure size 600x400 with 1 Axes>"
      ]
     },
     "metadata": {},
     "output_type": "display_data"
    }
   ],
   "source": [
    "plot_function(torch.sigmoid, title='Sigmoid', min=-4, max=4)"
   ]
  },
  {
   "cell_type": "code",
   "execution_count": 257,
   "metadata": {},
   "outputs": [],
   "source": [
    "def mnist_loss(predictions, targets):\n",
    "    predictions = predictions.sigmoid()\n",
    "    return torch.where(targets==1, 1-predictions, predictions).mean()"
   ]
  },
  {
   "cell_type": "code",
   "execution_count": 258,
   "metadata": {},
   "outputs": [
    {
     "data": {
      "text/plain": [
       "[tensor([ 0,  7,  4,  5, 11]),\n",
       " tensor([ 9,  3,  8, 14,  6]),\n",
       " tensor([12,  2,  1, 10, 13])]"
      ]
     },
     "execution_count": 258,
     "metadata": {},
     "output_type": "execute_result"
    }
   ],
   "source": [
    "coll = range(15)\n",
    "dl = DataLoader(coll, batch_size=5, shuffle=True)\n",
    "list(dl)"
   ]
  },
  {
   "cell_type": "code",
   "execution_count": 259,
   "metadata": {},
   "outputs": [
    {
     "data": {
      "text/plain": [
       "(#26) [(0, 'a'),(1, 'b'),(2, 'c'),(3, 'd'),(4, 'e'),(5, 'f'),(6, 'g'),(7, 'h'),(8, 'i'),(9, 'j'),(10, 'k'),(11, 'l'),(12, 'm'),(13, 'n'),(14, 'o'),(15, 'p'),(16, 'q'),(17, 'r'),(18, 's'),(19, 't')...]"
      ]
     },
     "execution_count": 259,
     "metadata": {},
     "output_type": "execute_result"
    }
   ],
   "source": [
    "ds = L(enumerate(string.ascii_lowercase))\n",
    "ds"
   ]
  },
  {
   "cell_type": "code",
   "execution_count": 260,
   "metadata": {},
   "outputs": [
    {
     "data": {
      "text/plain": [
       "[(tensor([ 6, 14, 12, 15, 24, 11]), ('g', 'o', 'm', 'p', 'y', 'l')),\n",
       " (tensor([ 0, 16,  2, 18, 25, 21]), ('a', 'q', 'c', 's', 'z', 'v')),\n",
       " (tensor([ 8,  7, 19, 23,  1,  9]), ('i', 'h', 't', 'x', 'b', 'j')),\n",
       " (tensor([ 4, 13, 10,  5,  3, 17]), ('e', 'n', 'k', 'f', 'd', 'r')),\n",
       " (tensor([22, 20]), ('w', 'u'))]"
      ]
     },
     "execution_count": 260,
     "metadata": {},
     "output_type": "execute_result"
    }
   ],
   "source": [
    "dl = DataLoader(ds, batch_size=6, shuffle=True)\n",
    "list(dl)"
   ]
  },
  {
   "cell_type": "markdown",
   "metadata": {},
   "source": [
    "### Final Boss"
   ]
  },
  {
   "cell_type": "code",
   "execution_count": 261,
   "metadata": {},
   "outputs": [],
   "source": [
    "# ...existing code...\n",
    "\n",
    "# Ensure the model function is defined\n",
    "def model(x): \n",
    "    return linear1(x.view(-1, 28*28))  # Reshape xb to (batch_size, 28*28)\n",
    "\n",
    "# Ensure the parameters variable is initialized correctly\n",
    "parameters = [weights, bias]\n",
    "\n",
    "# Update the DataLoader loop to use the correct shapes\n",
    "for xb, yb in dl:\n",
    "    if xb.size(0) < 28*28:\n",
    "        continue  # Skip batches that are too small\n",
    "    pred = model(xb)\n",
    "    loss = mnist_loss(pred, yb)\n",
    "    loss.backward()\n",
    "    for p in parameters:\n",
    "        p.data -= p.grad * lr\n",
    "        p.grad.zero_()\n",
    "\n",
    "# ...existing code..."
   ]
  },
  {
   "cell_type": "code",
   "execution_count": 262,
   "metadata": {},
   "outputs": [],
   "source": [
    "weights = init_params((28*28,1))\n",
    "bias = init_params(1)"
   ]
  },
  {
   "cell_type": "code",
   "execution_count": 263,
   "metadata": {},
   "outputs": [
    {
     "data": {
      "text/plain": [
       "(torch.Size([256, 784]), torch.Size([256, 1]))"
      ]
     },
     "execution_count": 263,
     "metadata": {},
     "output_type": "execute_result"
    }
   ],
   "source": [
    "dl = DataLoader(dset, batch_size=256)\n",
    "xb,yb = first(dl)\n",
    "xb.shape,yb.shape"
   ]
  },
  {
   "cell_type": "code",
   "execution_count": 264,
   "metadata": {},
   "outputs": [],
   "source": [
    "valid_dl = DataLoader(valid_dset, batch_size=256)"
   ]
  },
  {
   "cell_type": "code",
   "execution_count": 265,
   "metadata": {},
   "outputs": [
    {
     "data": {
      "text/plain": [
       "torch.Size([4, 784])"
      ]
     },
     "execution_count": 265,
     "metadata": {},
     "output_type": "execute_result"
    }
   ],
   "source": [
    "batch = train_x[:4]\n",
    "batch.shape"
   ]
  },
  {
   "cell_type": "code",
   "execution_count": 266,
   "metadata": {},
   "outputs": [
    {
     "data": {
      "text/plain": [
       "tensor([[-0.0843],\n",
       "        [ 3.8396],\n",
       "        [ 7.4343],\n",
       "        [ 8.2737]], grad_fn=<AddBackward0>)"
      ]
     },
     "execution_count": 266,
     "metadata": {},
     "output_type": "execute_result"
    }
   ],
   "source": [
    "preds = linear1(batch)\n",
    "preds"
   ]
  },
  {
   "cell_type": "code",
   "execution_count": 267,
   "metadata": {},
   "outputs": [
    {
     "data": {
      "text/plain": [
       "tensor(0.1357, grad_fn=<MeanBackward0>)"
      ]
     },
     "execution_count": 267,
     "metadata": {},
     "output_type": "execute_result"
    }
   ],
   "source": [
    "loss = mnist_loss(preds, train_y[:4])\n",
    "loss"
   ]
  },
  {
   "cell_type": "code",
   "execution_count": 268,
   "metadata": {},
   "outputs": [
    {
     "data": {
      "text/plain": [
       "(torch.Size([784, 1]), tensor(-0.0097), tensor([-0.0678]))"
      ]
     },
     "execution_count": 268,
     "metadata": {},
     "output_type": "execute_result"
    }
   ],
   "source": [
    "loss.backward()\n",
    "weights.grad.shape,weights.grad.mean(),bias.grad"
   ]
  },
  {
   "cell_type": "code",
   "execution_count": 269,
   "metadata": {},
   "outputs": [],
   "source": [
    "def calc_grad(xb, yb, model):\n",
    "    preds = model(xb)\n",
    "    loss = mnist_loss(preds, yb)\n",
    "    loss.backward()"
   ]
  },
  {
   "cell_type": "code",
   "execution_count": 270,
   "metadata": {},
   "outputs": [
    {
     "data": {
      "text/plain": [
       "(tensor(-0.0193), tensor([-0.1355]))"
      ]
     },
     "execution_count": 270,
     "metadata": {},
     "output_type": "execute_result"
    }
   ],
   "source": [
    "calc_grad(batch, train_y[:4], linear1)\n",
    "weights.grad.mean(),bias.grad"
   ]
  },
  {
   "cell_type": "code",
   "execution_count": 271,
   "metadata": {},
   "outputs": [
    {
     "data": {
      "text/plain": [
       "(tensor(-0.0290), tensor([-0.2033]))"
      ]
     },
     "execution_count": 271,
     "metadata": {},
     "output_type": "execute_result"
    }
   ],
   "source": [
    "calc_grad(batch, train_y[:4], linear1)\n",
    "weights.grad.mean(),bias.grad"
   ]
  },
  {
   "cell_type": "code",
   "execution_count": 272,
   "metadata": {},
   "outputs": [
    {
     "data": {
      "text/plain": [
       "tensor([0.])"
      ]
     },
     "execution_count": 272,
     "metadata": {},
     "output_type": "execute_result"
    }
   ],
   "source": [
    "weights.grad.zero_()\n",
    "bias.grad.zero_()"
   ]
  },
  {
   "cell_type": "code",
   "execution_count": 273,
   "metadata": {},
   "outputs": [],
   "source": [
    "def train_epoch(model, lr, params):\n",
    "    for xb,yb in dl:\n",
    "        calc_grad(xb, yb, model)\n",
    "        for p in params:\n",
    "            p.data -= p.grad*lr\n",
    "            p.grad.zero_()"
   ]
  },
  {
   "cell_type": "code",
   "execution_count": 274,
   "metadata": {},
   "outputs": [
    {
     "data": {
      "text/plain": [
       "tensor([[False],\n",
       "        [ True],\n",
       "        [ True],\n",
       "        [ True]])"
      ]
     },
     "execution_count": 274,
     "metadata": {},
     "output_type": "execute_result"
    }
   ],
   "source": [
    "(preds>0.0).float() == train_y[:4]"
   ]
  },
  {
   "cell_type": "code",
   "execution_count": 275,
   "metadata": {},
   "outputs": [],
   "source": [
    "def batch_accuracy(xb, yb):\n",
    "    preds = xb.sigmoid()\n",
    "    correct = (preds>0.5) == yb\n",
    "    return correct.float().mean()"
   ]
  },
  {
   "cell_type": "code",
   "execution_count": 276,
   "metadata": {},
   "outputs": [
    {
     "data": {
      "text/plain": [
       "tensor(0.7500)"
      ]
     },
     "execution_count": 276,
     "metadata": {},
     "output_type": "execute_result"
    }
   ],
   "source": [
    "batch_accuracy(linear1(batch), train_y[:4])"
   ]
  },
  {
   "cell_type": "code",
   "execution_count": 277,
   "metadata": {},
   "outputs": [
    {
     "data": {
      "text/plain": [
       "0.8045"
      ]
     },
     "execution_count": 277,
     "metadata": {},
     "output_type": "execute_result"
    }
   ],
   "source": [
    "def validate_epoch(model):\n",
    "    accs = [batch_accuracy(model(xb), yb) for xb,yb in valid_dl]\n",
    "    return round(torch.stack(accs).mean().item(), 4)\n",
    "validate_epoch(linear1)"
   ]
  },
  {
   "cell_type": "code",
   "execution_count": 278,
   "metadata": {},
   "outputs": [
    {
     "data": {
      "text/plain": [
       "0.8066"
      ]
     },
     "execution_count": 278,
     "metadata": {},
     "output_type": "execute_result"
    }
   ],
   "source": [
    "lr = 1.\n",
    "params = weights,bias\n",
    "train_epoch(linear1, lr, params)\n",
    "validate_epoch(linear1)"
   ]
  },
  {
   "cell_type": "code",
   "execution_count": 279,
   "metadata": {},
   "outputs": [
    {
     "name": "stdout",
     "output_type": "stream",
     "text": [
      "0.8959 0.9316 0.9423 0.9511 0.9555 0.9565 0.9604 0.9648 0.9662 0.9687 0.9706 0.9721 0.9736 0.9741 0.9741 0.975 0.9745 0.9745 0.975 0.9755 "
     ]
    }
   ],
   "source": [
    "for i in range(20):\n",
    "    train_epoch(linear1, lr, params)\n",
    "    print(validate_epoch(linear1), end=' ')"
   ]
  },
  {
   "cell_type": "markdown",
   "metadata": {},
   "source": [
    "### Creating an Optimizer"
   ]
  },
  {
   "cell_type": "code",
   "execution_count": 280,
   "metadata": {},
   "outputs": [],
   "source": [
    "linear_model = nn.Linear(28*28,1)"
   ]
  },
  {
   "cell_type": "code",
   "execution_count": 281,
   "metadata": {},
   "outputs": [
    {
     "data": {
      "text/plain": [
       "(torch.Size([1, 784]), torch.Size([1]))"
      ]
     },
     "execution_count": 281,
     "metadata": {},
     "output_type": "execute_result"
    }
   ],
   "source": [
    "w,b = linear_model.parameters()\n",
    "w.shape,b.shape"
   ]
  },
  {
   "cell_type": "code",
   "execution_count": 283,
   "metadata": {},
   "outputs": [],
   "source": [
    "class BasicOptim:\n",
    "    def __init__(self,params,lr): self.params,self.lr = list(params),lr\n",
    "    def step(self, *args, **kwargs):\n",
    "        for p in self.params: p.data -= p.grad.data * self.lr\n",
    "    def zero_grad(self, *args, **kwargs):\n",
    "        for p in self.params: p.grad = None"
   ]
  },
  {
   "cell_type": "code",
   "execution_count": 284,
   "metadata": {},
   "outputs": [],
   "source": [
    "opt = BasicOptim(linear_model.parameters(), lr)"
   ]
  },
  {
   "cell_type": "code",
   "execution_count": 286,
   "metadata": {},
   "outputs": [],
   "source": [
    "def train_epoch(model):\n",
    "    for xb,yb in dl:\n",
    "        calc_grad(xb, yb, model)\n",
    "        opt.step()\n",
    "        opt.zero_grad()"
   ]
  },
  {
   "cell_type": "code",
   "execution_count": 287,
   "metadata": {},
   "outputs": [
    {
     "data": {
      "text/plain": [
       "0.5386"
      ]
     },
     "execution_count": 287,
     "metadata": {},
     "output_type": "execute_result"
    }
   ],
   "source": [
    "validate_epoch(linear_model)"
   ]
  },
  {
   "cell_type": "code",
   "execution_count": 288,
   "metadata": {},
   "outputs": [],
   "source": [
    "def train_model(model, epochs):\n",
    "    for i in range(epochs):\n",
    "        train_epoch(model)\n",
    "        print(validate_epoch(model), end=' ')"
   ]
  },
  {
   "cell_type": "code",
   "execution_count": 289,
   "metadata": {},
   "outputs": [
    {
     "name": "stdout",
     "output_type": "stream",
     "text": [
      "0.4932 0.7764 0.8545 0.917 0.9351 0.9478 0.9565 0.9629 0.9658 0.9683 0.9697 0.9722 0.9731 0.9746 0.9761 0.9766 0.9771 0.9775 0.978 0.978 "
     ]
    }
   ],
   "source": [
    "train_model(linear_model, 20)"
   ]
  },
  {
   "cell_type": "code",
   "execution_count": 290,
   "metadata": {},
   "outputs": [
    {
     "name": "stdout",
     "output_type": "stream",
     "text": [
      "0.4932 0.8296 0.8423 0.9111 0.9316 0.9473 0.9561 0.9624 0.9658 0.9683 0.9697 0.9717 0.9736 0.9751 0.9756 0.9771 0.9771 0.978 0.978 0.978 "
     ]
    }
   ],
   "source": [
    "linear_model = nn.Linear(28*28,1)\n",
    "opt = SGD(linear_model.parameters(), lr)\n",
    "train_model(linear_model, 20)"
   ]
  },
  {
   "cell_type": "code",
   "execution_count": 291,
   "metadata": {},
   "outputs": [],
   "source": [
    "dls = DataLoaders(dl, valid_dl)"
   ]
  },
  {
   "cell_type": "code",
   "execution_count": 292,
   "metadata": {},
   "outputs": [],
   "source": [
    "learn = Learner(dls, nn.Linear(28*28,1), opt_func=SGD,\n",
    "loss_func=mnist_loss, metrics=batch_accuracy)"
   ]
  },
  {
   "cell_type": "code",
   "execution_count": 293,
   "metadata": {},
   "outputs": [
    {
     "data": {
      "text/html": [
       "\n",
       "<style>\n",
       "    /* Turns off some styling */\n",
       "    progress {\n",
       "        /* gets rid of default border in Firefox and Opera. */\n",
       "        border: none;\n",
       "        /* Needs to be in here for Safari polyfill so background images work as expected. */\n",
       "        background-size: auto;\n",
       "    }\n",
       "    progress:not([value]), progress:not([value])::-webkit-progress-bar {\n",
       "        background: repeating-linear-gradient(45deg, #7e7e7e, #7e7e7e 10px, #5c5c5c 10px, #5c5c5c 20px);\n",
       "    }\n",
       "    .progress-bar-interrupted, .progress-bar-interrupted::-webkit-progress-bar {\n",
       "        background: #F44336;\n",
       "    }\n",
       "</style>\n"
      ],
      "text/plain": [
       "<IPython.core.display.HTML object>"
      ]
     },
     "metadata": {},
     "output_type": "display_data"
    },
    {
     "data": {
      "text/html": [
       "<table border=\"1\" class=\"dataframe\">\n",
       "  <thead>\n",
       "    <tr style=\"text-align: left;\">\n",
       "      <th>epoch</th>\n",
       "      <th>train_loss</th>\n",
       "      <th>valid_loss</th>\n",
       "      <th>batch_accuracy</th>\n",
       "      <th>time</th>\n",
       "    </tr>\n",
       "  </thead>\n",
       "  <tbody>\n",
       "    <tr>\n",
       "      <td>0</td>\n",
       "      <td>0.637145</td>\n",
       "      <td>0.503243</td>\n",
       "      <td>0.495584</td>\n",
       "      <td>00:00</td>\n",
       "    </tr>\n",
       "    <tr>\n",
       "      <td>1</td>\n",
       "      <td>0.447255</td>\n",
       "      <td>0.257249</td>\n",
       "      <td>0.765947</td>\n",
       "      <td>00:00</td>\n",
       "    </tr>\n",
       "    <tr>\n",
       "      <td>2</td>\n",
       "      <td>0.167562</td>\n",
       "      <td>0.157503</td>\n",
       "      <td>0.858685</td>\n",
       "      <td>00:00</td>\n",
       "    </tr>\n",
       "    <tr>\n",
       "      <td>3</td>\n",
       "      <td>0.074992</td>\n",
       "      <td>0.098616</td>\n",
       "      <td>0.917076</td>\n",
       "      <td>00:00</td>\n",
       "    </tr>\n",
       "    <tr>\n",
       "      <td>4</td>\n",
       "      <td>0.040784</td>\n",
       "      <td>0.073966</td>\n",
       "      <td>0.935231</td>\n",
       "      <td>00:00</td>\n",
       "    </tr>\n",
       "    <tr>\n",
       "      <td>5</td>\n",
       "      <td>0.027346</td>\n",
       "      <td>0.060133</td>\n",
       "      <td>0.948479</td>\n",
       "      <td>00:00</td>\n",
       "    </tr>\n",
       "    <tr>\n",
       "      <td>6</td>\n",
       "      <td>0.021779</td>\n",
       "      <td>0.051335</td>\n",
       "      <td>0.957311</td>\n",
       "      <td>00:00</td>\n",
       "    </tr>\n",
       "    <tr>\n",
       "      <td>7</td>\n",
       "      <td>0.019274</td>\n",
       "      <td>0.045392</td>\n",
       "      <td>0.963690</td>\n",
       "      <td>00:00</td>\n",
       "    </tr>\n",
       "    <tr>\n",
       "      <td>8</td>\n",
       "      <td>0.017984</td>\n",
       "      <td>0.041174</td>\n",
       "      <td>0.965653</td>\n",
       "      <td>00:00</td>\n",
       "    </tr>\n",
       "    <tr>\n",
       "      <td>9</td>\n",
       "      <td>0.017198</td>\n",
       "      <td>0.038045</td>\n",
       "      <td>0.967615</td>\n",
       "      <td>00:00</td>\n",
       "    </tr>\n",
       "  </tbody>\n",
       "</table>"
      ],
      "text/plain": [
       "<IPython.core.display.HTML object>"
      ]
     },
     "metadata": {},
     "output_type": "display_data"
    }
   ],
   "source": [
    "learn.fit(10, lr=lr)"
   ]
  },
  {
   "cell_type": "code",
   "execution_count": 294,
   "metadata": {},
   "outputs": [],
   "source": [
    "def simple_net(xb):\n",
    "    res = xb@w1 + b1\n",
    "    res = res.max(tensor(0.0))\n",
    "    res = res@w2 + b2\n",
    "    return res"
   ]
  },
  {
   "cell_type": "code",
   "execution_count": 295,
   "metadata": {},
   "outputs": [],
   "source": [
    "w1 = init_params((28*28,30))\n",
    "b1 = init_params(30)\n",
    "w2 = init_params((30,1))\n",
    "b2 = init_params(1)"
   ]
  },
  {
   "cell_type": "code",
   "execution_count": 296,
   "metadata": {},
   "outputs": [
    {
     "data": {
      "image/png": "[encoded data removed]",
      "text/plain": [
       "<Figure size 600x400 with 1 Axes>"
      ]
     },
     "metadata": {},
     "output_type": "display_data"
    }
   ],
   "source": [
    "plot_function(F.relu)"
   ]
  },
  {
   "cell_type": "code",
   "execution_count": 297,
   "metadata": {},
   "outputs": [],
   "source": [
    "simple_net = nn.Sequential(\n",
    "nn.Linear(28*28,30),\n",
    "nn.ReLU(),\n",
    "nn.Linear(30,1)\n",
    ")"
   ]
  },
  {
   "cell_type": "code",
   "execution_count": 298,
   "metadata": {},
   "outputs": [
    {
     "data": {
      "text/html": [
       "\n",
       "<style>\n",
       "    /* Turns off some styling */\n",
       "    progress {\n",
       "        /* gets rid of default border in Firefox and Opera. */\n",
       "        border: none;\n",
       "        /* Needs to be in here for Safari polyfill so background images work as expected. */\n",
       "        background-size: auto;\n",
       "    }\n",
       "    progress:not([value]), progress:not([value])::-webkit-progress-bar {\n",
       "        background: repeating-linear-gradient(45deg, #7e7e7e, #7e7e7e 10px, #5c5c5c 10px, #5c5c5c 20px);\n",
       "    }\n",
       "    .progress-bar-interrupted, .progress-bar-interrupted::-webkit-progress-bar {\n",
       "        background: #F44336;\n",
       "    }\n",
       "</style>\n"
      ],
      "text/plain": [
       "<IPython.core.display.HTML object>"
      ]
     },
     "metadata": {},
     "output_type": "display_data"
    },
    {
     "data": {
      "text/html": [
       "<table border=\"1\" class=\"dataframe\">\n",
       "  <thead>\n",
       "    <tr style=\"text-align: left;\">\n",
       "      <th>epoch</th>\n",
       "      <th>train_loss</th>\n",
       "      <th>valid_loss</th>\n",
       "      <th>batch_accuracy</th>\n",
       "      <th>time</th>\n",
       "    </tr>\n",
       "  </thead>\n",
       "  <tbody>\n",
       "    <tr>\n",
       "      <td>0</td>\n",
       "      <td>0.352757</td>\n",
       "      <td>0.390806</td>\n",
       "      <td>0.517664</td>\n",
       "      <td>00:00</td>\n",
       "    </tr>\n",
       "    <tr>\n",
       "      <td>1</td>\n",
       "      <td>0.160189</td>\n",
       "      <td>0.242371</td>\n",
       "      <td>0.789990</td>\n",
       "      <td>00:00</td>\n",
       "    </tr>\n",
       "    <tr>\n",
       "      <td>2</td>\n",
       "      <td>0.086645</td>\n",
       "      <td>0.118521</td>\n",
       "      <td>0.913150</td>\n",
       "      <td>00:00</td>\n",
       "    </tr>\n",
       "    <tr>\n",
       "      <td>3</td>\n",
       "      <td>0.055531</td>\n",
       "      <td>0.078699</td>\n",
       "      <td>0.942591</td>\n",
       "      <td>00:00</td>\n",
       "    </tr>\n",
       "    <tr>\n",
       "      <td>4</td>\n",
       "      <td>0.041317</td>\n",
       "      <td>0.060990</td>\n",
       "      <td>0.956330</td>\n",
       "      <td>00:00</td>\n",
       "    </tr>\n",
       "    <tr>\n",
       "      <td>5</td>\n",
       "      <td>0.034200</td>\n",
       "      <td>0.051190</td>\n",
       "      <td>0.963690</td>\n",
       "      <td>00:00</td>\n",
       "    </tr>\n",
       "    <tr>\n",
       "      <td>6</td>\n",
       "      <td>0.030205</td>\n",
       "      <td>0.045070</td>\n",
       "      <td>0.965653</td>\n",
       "      <td>00:00</td>\n",
       "    </tr>\n",
       "    <tr>\n",
       "      <td>7</td>\n",
       "      <td>0.027661</td>\n",
       "      <td>0.040921</td>\n",
       "      <td>0.968597</td>\n",
       "      <td>00:00</td>\n",
       "    </tr>\n",
       "    <tr>\n",
       "      <td>8</td>\n",
       "      <td>0.025853</td>\n",
       "      <td>0.037930</td>\n",
       "      <td>0.968597</td>\n",
       "      <td>00:00</td>\n",
       "    </tr>\n",
       "    <tr>\n",
       "      <td>9</td>\n",
       "      <td>0.024463</td>\n",
       "      <td>0.035662</td>\n",
       "      <td>0.971050</td>\n",
       "      <td>00:00</td>\n",
       "    </tr>\n",
       "    <tr>\n",
       "      <td>10</td>\n",
       "      <td>0.023339</td>\n",
       "      <td>0.033873</td>\n",
       "      <td>0.971541</td>\n",
       "      <td>00:00</td>\n",
       "    </tr>\n",
       "    <tr>\n",
       "      <td>11</td>\n",
       "      <td>0.022403</td>\n",
       "      <td>0.032409</td>\n",
       "      <td>0.972031</td>\n",
       "      <td>00:00</td>\n",
       "    </tr>\n",
       "    <tr>\n",
       "      <td>12</td>\n",
       "      <td>0.021604</td>\n",
       "      <td>0.031181</td>\n",
       "      <td>0.973503</td>\n",
       "      <td>00:00</td>\n",
       "    </tr>\n",
       "    <tr>\n",
       "      <td>13</td>\n",
       "      <td>0.020915</td>\n",
       "      <td>0.030125</td>\n",
       "      <td>0.974485</td>\n",
       "      <td>00:00</td>\n",
       "    </tr>\n",
       "    <tr>\n",
       "      <td>14</td>\n",
       "      <td>0.020310</td>\n",
       "      <td>0.029203</td>\n",
       "      <td>0.975466</td>\n",
       "      <td>00:00</td>\n",
       "    </tr>\n",
       "    <tr>\n",
       "      <td>15</td>\n",
       "      <td>0.019774</td>\n",
       "      <td>0.028389</td>\n",
       "      <td>0.975957</td>\n",
       "      <td>00:00</td>\n",
       "    </tr>\n",
       "    <tr>\n",
       "      <td>16</td>\n",
       "      <td>0.019295</td>\n",
       "      <td>0.027661</td>\n",
       "      <td>0.975957</td>\n",
       "      <td>00:00</td>\n",
       "    </tr>\n",
       "    <tr>\n",
       "      <td>17</td>\n",
       "      <td>0.018863</td>\n",
       "      <td>0.027006</td>\n",
       "      <td>0.977920</td>\n",
       "      <td>00:00</td>\n",
       "    </tr>\n",
       "    <tr>\n",
       "      <td>18</td>\n",
       "      <td>0.018472</td>\n",
       "      <td>0.026412</td>\n",
       "      <td>0.977920</td>\n",
       "      <td>00:00</td>\n",
       "    </tr>\n",
       "    <tr>\n",
       "      <td>19</td>\n",
       "      <td>0.018114</td>\n",
       "      <td>0.025872</td>\n",
       "      <td>0.977920</td>\n",
       "      <td>00:00</td>\n",
       "    </tr>\n",
       "    <tr>\n",
       "      <td>20</td>\n",
       "      <td>0.017785</td>\n",
       "      <td>0.025379</td>\n",
       "      <td>0.978410</td>\n",
       "      <td>00:00</td>\n",
       "    </tr>\n",
       "    <tr>\n",
       "      <td>21</td>\n",
       "      <td>0.017481</td>\n",
       "      <td>0.024927</td>\n",
       "      <td>0.978901</td>\n",
       "      <td>00:00</td>\n",
       "    </tr>\n",
       "    <tr>\n",
       "      <td>22</td>\n",
       "      <td>0.017198</td>\n",
       "      <td>0.024513</td>\n",
       "      <td>0.979882</td>\n",
       "      <td>00:00</td>\n",
       "    </tr>\n",
       "    <tr>\n",
       "      <td>23</td>\n",
       "      <td>0.016935</td>\n",
       "      <td>0.024130</td>\n",
       "      <td>0.979882</td>\n",
       "      <td>00:00</td>\n",
       "    </tr>\n",
       "    <tr>\n",
       "      <td>24</td>\n",
       "      <td>0.016689</td>\n",
       "      <td>0.023775</td>\n",
       "      <td>0.979392</td>\n",
       "      <td>00:00</td>\n",
       "    </tr>\n",
       "    <tr>\n",
       "      <td>25</td>\n",
       "      <td>0.016458</td>\n",
       "      <td>0.023447</td>\n",
       "      <td>0.979392</td>\n",
       "      <td>00:00</td>\n",
       "    </tr>\n",
       "    <tr>\n",
       "      <td>26</td>\n",
       "      <td>0.016240</td>\n",
       "      <td>0.023143</td>\n",
       "      <td>0.979882</td>\n",
       "      <td>00:00</td>\n",
       "    </tr>\n",
       "    <tr>\n",
       "      <td>27</td>\n",
       "      <td>0.016033</td>\n",
       "      <td>0.022859</td>\n",
       "      <td>0.980373</td>\n",
       "      <td>00:00</td>\n",
       "    </tr>\n",
       "    <tr>\n",
       "      <td>28</td>\n",
       "      <td>0.015838</td>\n",
       "      <td>0.022595</td>\n",
       "      <td>0.980864</td>\n",
       "      <td>00:00</td>\n",
       "    </tr>\n",
       "    <tr>\n",
       "      <td>29</td>\n",
       "      <td>0.015653</td>\n",
       "      <td>0.022350</td>\n",
       "      <td>0.981354</td>\n",
       "      <td>00:00</td>\n",
       "    </tr>\n",
       "    <tr>\n",
       "      <td>30</td>\n",
       "      <td>0.015477</td>\n",
       "      <td>0.022120</td>\n",
       "      <td>0.981354</td>\n",
       "      <td>00:00</td>\n",
       "    </tr>\n",
       "    <tr>\n",
       "      <td>31</td>\n",
       "      <td>0.015310</td>\n",
       "      <td>0.021905</td>\n",
       "      <td>0.981845</td>\n",
       "      <td>00:00</td>\n",
       "    </tr>\n",
       "    <tr>\n",
       "      <td>32</td>\n",
       "      <td>0.015150</td>\n",
       "      <td>0.021704</td>\n",
       "      <td>0.981845</td>\n",
       "      <td>00:00</td>\n",
       "    </tr>\n",
       "    <tr>\n",
       "      <td>33</td>\n",
       "      <td>0.014998</td>\n",
       "      <td>0.021514</td>\n",
       "      <td>0.982336</td>\n",
       "      <td>00:00</td>\n",
       "    </tr>\n",
       "    <tr>\n",
       "      <td>34</td>\n",
       "      <td>0.014852</td>\n",
       "      <td>0.021336</td>\n",
       "      <td>0.982336</td>\n",
       "      <td>00:00</td>\n",
       "    </tr>\n",
       "    <tr>\n",
       "      <td>35</td>\n",
       "      <td>0.014712</td>\n",
       "      <td>0.021167</td>\n",
       "      <td>0.982336</td>\n",
       "      <td>00:00</td>\n",
       "    </tr>\n",
       "    <tr>\n",
       "      <td>36</td>\n",
       "      <td>0.014578</td>\n",
       "      <td>0.021008</td>\n",
       "      <td>0.982826</td>\n",
       "      <td>00:00</td>\n",
       "    </tr>\n",
       "    <tr>\n",
       "      <td>37</td>\n",
       "      <td>0.014449</td>\n",
       "      <td>0.020857</td>\n",
       "      <td>0.982826</td>\n",
       "      <td>00:00</td>\n",
       "    </tr>\n",
       "    <tr>\n",
       "      <td>38</td>\n",
       "      <td>0.014326</td>\n",
       "      <td>0.020715</td>\n",
       "      <td>0.982826</td>\n",
       "      <td>00:00</td>\n",
       "    </tr>\n",
       "    <tr>\n",
       "      <td>39</td>\n",
       "      <td>0.014207</td>\n",
       "      <td>0.020579</td>\n",
       "      <td>0.982826</td>\n",
       "      <td>00:00</td>\n",
       "    </tr>\n",
       "  </tbody>\n",
       "</table>"
      ],
      "text/plain": [
       "<IPython.core.display.HTML object>"
      ]
     },
     "metadata": {},
     "output_type": "display_data"
    }
   ],
   "source": [
    "learn = Learner(dls, simple_net, opt_func=SGD,\n",
    "loss_func=mnist_loss, metrics=batch_accuracy)\n",
    "learn.fit(40, 0.1)"
   ]
  },
  {
   "cell_type": "code",
   "execution_count": 299,
   "metadata": {},
   "outputs": [
    {
     "data": {
      "image/png": "[encoded data removed]",
      "text/plain": [
       "<Figure size 640x480 with 1 Axes>"
      ]
     },
     "metadata": {},
     "output_type": "display_data"
    }
   ],
   "source": [
    "plt.plot(L(learn.recorder.values).itemgot(2));"
   ]
  },
  {
   "cell_type": "code",
   "execution_count": 300,
   "metadata": {},
   "outputs": [
    {
     "data": {
      "text/plain": [
       "0.982826292514801"
      ]
     },
     "execution_count": 300,
     "metadata": {},
     "output_type": "execute_result"
    }
   ],
   "source": [
    "learn.recorder.values[-1][2]"
   ]
  },
  {
   "cell_type": "code",
   "execution_count": 301,
   "metadata": {},
   "outputs": [
    {
     "name": "stderr",
     "output_type": "stream",
     "text": [
      "/home/himanshu/code/fastaideep/fast/lib/python3.12/site-packages/fastai/vision/learner.py:303: UserWarning: `cnn_learner` has been renamed to `vision_learner` -- please update your code\n",
      "  warn(\"`cnn_learner` has been renamed to `vision_learner` -- please update your code\")\n"
     ]
    },
    {
     "data": {
      "text/html": [
       "\n",
       "<style>\n",
       "    /* Turns off some styling */\n",
       "    progress {\n",
       "        /* gets rid of default border in Firefox and Opera. */\n",
       "        border: none;\n",
       "        /* Needs to be in here for Safari polyfill so background images work as expected. */\n",
       "        background-size: auto;\n",
       "    }\n",
       "    progress:not([value]), progress:not([value])::-webkit-progress-bar {\n",
       "        background: repeating-linear-gradient(45deg, #7e7e7e, #7e7e7e 10px, #5c5c5c 10px, #5c5c5c 20px);\n",
       "    }\n",
       "    .progress-bar-interrupted, .progress-bar-interrupted::-webkit-progress-bar {\n",
       "        background: #F44336;\n",
       "    }\n",
       "</style>\n"
      ],
      "text/plain": [
       "<IPython.core.display.HTML object>"
      ]
     },
     "metadata": {},
     "output_type": "display_data"
    },
    {
     "data": {
      "text/html": [
       "<table border=\"1\" class=\"dataframe\">\n",
       "  <thead>\n",
       "    <tr style=\"text-align: left;\">\n",
       "      <th>epoch</th>\n",
       "      <th>train_loss</th>\n",
       "      <th>valid_loss</th>\n",
       "      <th>accuracy</th>\n",
       "      <th>time</th>\n",
       "    </tr>\n",
       "  </thead>\n",
       "  <tbody>\n",
       "    <tr>\n",
       "      <td>0</td>\n",
       "      <td>0.108926</td>\n",
       "      <td>0.024451</td>\n",
       "      <td>0.996565</td>\n",
       "      <td>01:00</td>\n",
       "    </tr>\n",
       "  </tbody>\n",
       "</table>"
      ],
      "text/plain": [
       "<IPython.core.display.HTML object>"
      ]
     },
     "metadata": {},
     "output_type": "display_data"
    }
   ],
   "source": [
    "dls = ImageDataLoaders.from_folder(path)\n",
    "learn = cnn_learner(dls, resnet18, pretrained=False,\n",
    "loss_func=F.cross_entropy, metrics=accuracy)\n",
    "learn.fit_one_cycle(1, 0.1)"
   ]
  },
  {
   "cell_type": "code",
   "execution_count": null,
   "metadata": {},
   "outputs": [],
   "source": []
  }
 ],
 "metadata": {
  "kernelspec": {
   "display_name": "fast",
   "language": "python",
   "name": "python3"
  },
  "language_info": {
   "codemirror_mode": {
    "name": "ipython",
    "version": 3
   },
   "file_extension": ".py",
   "mimetype": "text/x-python",
   "name": "python",
   "nbconvert_exporter": "python",
   "pygments_lexer": "ipython3",
   "version": "3.12.3"
  }
 },
 "nbformat": 4,
 "nbformat_minor": 2
}
